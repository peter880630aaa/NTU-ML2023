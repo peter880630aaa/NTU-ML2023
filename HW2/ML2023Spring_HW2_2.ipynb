{
  "cells": [
    {
      "cell_type": "markdown",
      "metadata": {
        "id": "OYlaRwNu7ojq"
      },
      "source": [
        "# **Homework 2: Phoneme Classification**\n"
      ]
    },
    {
      "cell_type": "markdown",
      "metadata": {
        "id": "A7DRC5V7_8A5"
      },
      "source": [
        "Objectives:\n",
        "* Solve a classification problem with deep neural networks (DNNs).\n",
        "* Understand recursive neural networks (RNNs).\n",
        "\n",
        "If you have any questions, please contact the TAs via TA hours, NTU COOL, or email to mlta-2023-spring@googlegroups.com"
      ]
    },
    {
      "cell_type": "markdown",
      "metadata": {
        "id": "KVUGfWTo7_Oj"
      },
      "source": [
        "# Download Data\n",
        "Download data from google drive, then unzip it.\n",
        "\n",
        "You should have\n",
        "- `libriphone/train_split.txt`: training metadata\n",
        "- `libriphone/train_labels`: training labels\n",
        "- `libriphone/test_split.txt`: testing metadata\n",
        "- `libriphone/feat/train/*.pt`: training feature\n",
        "- `libriphone/feat/test/*.pt`:  testing feature\n",
        "\n",
        "after running the following block.\n",
        "\n",
        "> **Notes: if the google drive link is dead, you can download the data directly from [Kaggle](https://www.kaggle.com/c/ml2023spring-hw2/data) and upload it to the workspace.**\n"
      ]
    },
    {
      "cell_type": "code",
      "execution_count": 27,
      "metadata": {
        "id": "OzkiMEcC3Foq"
      },
      "outputs": [],
      "source": [
        "# !pip install --upgrade gdown\n",
        "\n",
        "# # Main link\n",
        "# !gdown --id '1N1eVIDe9hKM5uiNRGmifBlwSDGiVXPJe' --output libriphone.zip\n",
        "# # !gdown --id '1qzCRnywKh30mTbWUEjXuNT2isOCAPdO1' --output libriphone.zip\n",
        "\n",
        "# !unzip -q libriphone.zip\n",
        "# !ls libriphone"
      ]
    },
    {
      "cell_type": "markdown",
      "metadata": {
        "id": "pADUiYODJE1O"
      },
      "source": [
        "# Some Utility Functions\n",
        "**Fixes random number generator seeds for reproducibility.**"
      ]
    },
    {
      "cell_type": "code",
      "execution_count": 28,
      "metadata": {
        "id": "BsZKgBZQJjaE"
      },
      "outputs": [],
      "source": [
        "import numpy as np\n",
        "import torch\n",
        "import random\n",
        "\n",
        "def same_seeds(seed):\n",
        "    random.seed(seed) \n",
        "    np.random.seed(seed)  \n",
        "    torch.manual_seed(seed)\n",
        "    if torch.cuda.is_available():\n",
        "        torch.cuda.manual_seed(seed)\n",
        "        torch.cuda.manual_seed_all(seed) \n",
        "    torch.backends.cudnn.benchmark = False\n",
        "    torch.backends.cudnn.deterministic = True"
      ]
    },
    {
      "cell_type": "markdown",
      "metadata": {
        "id": "_L_4anls8Drv"
      },
      "source": [
        "**Helper functions to pre-process the training data from raw MFCC features of each utterance.**\n",
        "\n",
        "A phoneme may span several frames and is dependent to past and future frames. \\\n",
        "Hence we concatenate neighboring phonemes for training to achieve higher accuracy. The **concat_feat** function concatenates past and future k frames (total 2k+1 = n frames), and we predict the center frame.\n",
        "\n",
        "Feel free to modify the data preprocess functions, but **do not drop any frame** (if you modify the functions, remember to check that the number of frames are the same as mentioned in the slides)"
      ]
    },
    {
      "cell_type": "code",
      "execution_count": 29,
      "metadata": {
        "id": "IJjLT8em-y9G"
      },
      "outputs": [],
      "source": [
        "import os\n",
        "import torch\n",
        "from tqdm import tqdm\n",
        "\n",
        "def load_feat(path):\n",
        "    feat = torch.load(path)\n",
        "    return feat\n",
        "\n",
        "def shift(x, n):\n",
        "    if n < 0:\n",
        "        left = x[0].repeat(-n, 1)\n",
        "        right = x[:n]\n",
        "    elif n > 0:\n",
        "        right = x[-1].repeat(n, 1)\n",
        "        left = x[n:]\n",
        "    else:\n",
        "        return x\n",
        "\n",
        "    return torch.cat((left, right), dim=0)\n",
        "\n",
        "def concat_feat(x, concat_n):\n",
        "    assert concat_n % 2 == 1 # n must be odd\n",
        "    if concat_n < 2:\n",
        "        return x\n",
        "    seq_len, feature_dim = x.size(0), x.size(1)\n",
        "    x = x.repeat(1, concat_n) \n",
        "    x = x.view(seq_len, concat_n, feature_dim).permute(1, 0, 2) # concat_n, seq_len, feature_dim\n",
        "    mid = (concat_n // 2)\n",
        "    for r_idx in range(1, mid+1):\n",
        "        x[mid + r_idx, :] = shift(x[mid + r_idx], r_idx)\n",
        "        x[mid - r_idx, :] = shift(x[mid - r_idx], -r_idx)\n",
        "\n",
        "    return x.permute(1, 0, 2)#.view(seq_len, concat_n * feature_dim)\n",
        "\n",
        "def preprocess_data(split, feat_dir, phone_path, concat_nframes, train_ratio=0.8, random_seed=1213):\n",
        "    class_num = 41 # NOTE: pre-computed, should not need change\n",
        "\n",
        "    if split == 'train' or split == 'val':\n",
        "        mode = 'train'\n",
        "    elif split == 'test':\n",
        "        mode = 'test'\n",
        "    else:\n",
        "        raise ValueError('Invalid \\'split\\' argument for dataset: PhoneDataset!')\n",
        "\n",
        "    label_dict = {}\n",
        "    if mode == 'train':\n",
        "        for line in open(os.path.join(phone_path, f'{mode}_labels.txt')).readlines():\n",
        "            line = line.strip('\\n').split(' ')\n",
        "            label_dict[line[0]] = [int(p) for p in line[1:]]\n",
        "        \n",
        "        # split training and validation data\n",
        "        usage_list = open(os.path.join(phone_path, 'train_split.txt')).readlines()\n",
        "        random.seed(random_seed)\n",
        "        random.shuffle(usage_list)\n",
        "        train_len = int(len(usage_list) * train_ratio)\n",
        "        usage_list = usage_list[:train_len] if split == 'train' else usage_list[train_len:]\n",
        "\n",
        "    elif mode == 'test':\n",
        "        usage_list = open(os.path.join(phone_path, 'test_split.txt')).readlines()\n",
        "\n",
        "    usage_list = [line.strip('\\n') for line in usage_list]\n",
        "    print('[Dataset] - # phone classes: ' + str(class_num) + ', number of utterances for ' + split + ': ' + str(len(usage_list)))\n",
        "\n",
        "    max_len = 3000000\n",
        "    usage_len = usage_list.__len__()\n",
        "    # X = torch.empty(max_len, 39 * concat_nframes)\n",
        "    # X = torch.empty(max_len, concat_nframes, 39)\n",
        "    X = torch.zeros(usage_len, 1024, 39)\n",
        "    framelen = torch.empty(usage_len)\n",
        "    if mode == 'train':\n",
        "        # y = torch.empty(max_len, dtype=torch.long)\n",
        "        y = torch.zeros(usage_len, 1024, dtype=torch.long)\n",
        "\n",
        "    idx = 0\n",
        "    for i, fname in tqdm(enumerate(usage_list)):\n",
        "        feat = load_feat(os.path.join(feat_dir, mode, f'{fname}.pt'))\n",
        "        cur_len = len(feat)\n",
        "        # feat = concat_feat(feat, concat_nframes)\n",
        "        if mode == 'train':\n",
        "          label = torch.LongTensor(label_dict[fname])\n",
        "\n",
        "        # X[idx: idx + cur_len, :] = feat\n",
        "        # X[idx: idx + cur_len, :, :] = feat\n",
        "        X[i, :cur_len, :] = feat\n",
        "        framelen[i] = cur_len\n",
        "        if mode == 'train':\n",
        "          # y[idx: idx + cur_len] = label\n",
        "          #m = torch.nn.ConstantPad1d((0, 1024 - cur_len), -1)\n",
        "          y[i, :cur_len] = label\n",
        "\n",
        "        #idx += cur_len\n",
        "\n",
        "    # X = X[:idx, :, :]\n",
        "    # if mode == 'train':\n",
        "    #   y = y[:idx]\n",
        "\n",
        "    print(f'[INFO] {split} set')\n",
        "    print(X.shape)\n",
        "    if mode == 'train':\n",
        "      print(y.shape)\n",
        "      return X, y, framelen\n",
        "    else:\n",
        "      return X, framelen\n"
      ]
    },
    {
      "cell_type": "markdown",
      "metadata": {
        "id": "us5XW_x6udZQ"
      },
      "source": [
        "# Dataset"
      ]
    },
    {
      "cell_type": "code",
      "execution_count": 30,
      "metadata": {
        "id": "Fjf5EcmJtf4e"
      },
      "outputs": [],
      "source": [
        "import torch\n",
        "from torch.utils.data import Dataset\n",
        "\n",
        "class LibriDataset(Dataset):\n",
        "    def __init__(self, X, y=None, framelen=None):\n",
        "        self.data = X\n",
        "        self.framelen = framelen\n",
        "        if y is not None:\n",
        "            self.label = torch.LongTensor(y)\n",
        "        else:\n",
        "            self.label = None\n",
        "\n",
        "    def __getitem__(self, idx):\n",
        "        if self.label is not None:\n",
        "            return self.data[idx], self.label[idx], self.framelen[idx]\n",
        "        else:\n",
        "            return self.data[idx], self.framelen[idx]\n",
        "\n",
        "    def __len__(self):\n",
        "        return len(self.data)\n"
      ]
    },
    {
      "cell_type": "markdown",
      "metadata": {
        "id": "IRqKNvNZwe3V"
      },
      "source": [
        "# Model\n",
        "Feel free to modify the structure of the model."
      ]
    },
    {
      "cell_type": "code",
      "execution_count": 31,
      "metadata": {
        "id": "Bg-GRd7ywdrL"
      },
      "outputs": [],
      "source": [
        "import torch.nn as nn\n",
        "\n",
        "class BasicBlock(nn.Module):\n",
        "    def __init__(self, input_dim, output_dim):\n",
        "        super(BasicBlock, self).__init__()\n",
        "\n",
        "        # TODO: apply batch normalization and dropout for strong baseline.\n",
        "        # Reference: https://pytorch.org/docs/stable/generated/torch.nn.BatchNorm1d.html (batch normalization)\n",
        "        #       https://pytorch.org/docs/stable/generated/torch.nn.Dropout.html (dropout)\n",
        "        self.block = nn.Sequential(\n",
        "            nn.Linear(input_dim, output_dim),\n",
        "            nn.BatchNorm1d(output_dim),\n",
        "            nn.ReLU(),\n",
        "            nn.Dropout(0.75),\n",
        "        )\n",
        "        # self.linear = nn.Linear(input_dim, 1024)\n",
        "        # self.lrelu = nn.LeakyReLU()\n",
        "        # self.bn = nn.BatchNorm1d(1024)\n",
        "        # self.gru = nn.GRU(input_dim, hidden_size=512, bidirectional=True, batch_first=True)\n",
        "        # self.lstm = nn.LSTM(1024, hidden_size=1024, bidirectional=True, batch_first=True)\n",
        "        # self.dropout = nn.Dropout(0.5)\n",
        "        # self.out = nn.Linear(1024, output_dim)\n",
        "\n",
        "    def forward(self, x):\n",
        "        x = self.block(x)\n",
        "        # x = self.linear(x)\n",
        "        # x = self.bn(x)\n",
        "        # x, _ = self.gru(x)\n",
        "        # x = self.dropout(x)\n",
        "        # x = self.out(x)\n",
        "        return x\n",
        "\n",
        "\n",
        "class Classifier(nn.Module):\n",
        "    def __init__(self, input_dim, output_dim=41, hidden_layers=1, hidden_dim=256):\n",
        "        super(Classifier, self).__init__()\n",
        "\n",
        "        self.fc = nn.Sequential(\n",
        "            BasicBlock(input_dim, hidden_dim),\n",
        "            *[BasicBlock(hidden_dim, hidden_dim) for _ in range(hidden_layers)],\n",
        "            nn.Linear(hidden_dim, output_dim)\n",
        "        )\n",
        "        self.linear = nn.Linear(input_dim, 128)\n",
        "        self.lrelu = nn.LeakyReLU()\n",
        "        self.ln1 = nn.LayerNorm(input_dim)\n",
        "        self.ln2 = nn.LayerNorm(hidden_dim * 2)\n",
        "        self.gru = nn.GRU(input_dim, hidden_dim, hidden_layers, bidirectional=True, batch_first=True, dropout=0.5)\n",
        "        self.lstm = nn.LSTM(input_dim, hidden_dim, hidden_layers, bidirectional=True, batch_first=True, dropout=0.5)\n",
        "        self.softmax = nn.Softmax(dim = 1)\n",
        "        self.out = nn.Linear(hidden_dim * 2, output_dim)\n",
        "\n",
        "    def forward(self, x):\n",
        "        #x = self.fc(x)\n",
        "        #x = self.ln1(x)\n",
        "        x, _ = self.gru(x)\n",
        "\n",
        "        #x = self.ln2(x)\n",
        "\n",
        "        #x = self.softmax(x)\n",
        "        x = self.out(x)\n",
        "        return x"
      ]
    },
    {
      "cell_type": "markdown",
      "metadata": {
        "id": "TlIq8JeqvvHC"
      },
      "source": [
        "# Hyper-parameters"
      ]
    },
    {
      "cell_type": "code",
      "execution_count": 32,
      "metadata": {
        "id": "iIHn79Iav1ri"
      },
      "outputs": [],
      "source": [
        "# data prarameters\n",
        "# TODO: change the value of \"concat_nframes\" for medium baseline\n",
        "concat_nframes = 39   # the number of frames to concat with, n must be odd (total 2k+1 = n frames)\n",
        "train_ratio = 0.95   # the ratio of data used for training, the rest will be used for validation\n",
        "\n",
        "# training parameters\n",
        "seed = 1213          # random seed\n",
        "batch_size = 64        # batch size\n",
        "num_epoch = 500         # the number of training epoch\n",
        "learning_rate = 1e-3      # learning rate\n",
        "model_path = './model.ckpt'  # the path where the checkpoint will be saved\n",
        "\n",
        "# model parameters\n",
        "# TODO: change the value of \"hidden_layers\" or \"hidden_dim\" for medium baseline\n",
        "input_dim = 39# * concat_nframes  # the input dim of the model, you should not change the value\n",
        "hidden_layers = 8          # the number of hidden layers\n",
        "hidden_dim = 256           # the hidden dim"
      ]
    },
    {
      "cell_type": "markdown",
      "metadata": {
        "id": "IIUFRgG5yoDn"
      },
      "source": [
        "# Dataloader"
      ]
    },
    {
      "cell_type": "code",
      "execution_count": 33,
      "metadata": {
        "id": "c1zI3v5jyrDn"
      },
      "outputs": [
        {
          "name": "stdout",
          "output_type": "stream",
          "text": [
            "DEVICE: cuda\n",
            "[Dataset] - # phone classes: 41, number of utterances for train: 3257\n"
          ]
        },
        {
          "name": "stderr",
          "output_type": "stream",
          "text": [
            "3257it [00:03, 854.20it/s]\n"
          ]
        },
        {
          "name": "stdout",
          "output_type": "stream",
          "text": [
            "[INFO] train set\n",
            "torch.Size([3257, 1024, 39])\n",
            "torch.Size([3257, 1024])\n",
            "[Dataset] - # phone classes: 41, number of utterances for val: 172\n"
          ]
        },
        {
          "name": "stderr",
          "output_type": "stream",
          "text": [
            "172it [00:00, 916.52it/s]"
          ]
        },
        {
          "name": "stdout",
          "output_type": "stream",
          "text": [
            "[INFO] val set\n",
            "torch.Size([172, 1024, 39])\n",
            "torch.Size([172, 1024])\n"
          ]
        },
        {
          "name": "stderr",
          "output_type": "stream",
          "text": [
            "\n"
          ]
        }
      ],
      "source": [
        "from torch.utils.data import DataLoader\n",
        "import gc\n",
        "\n",
        "same_seeds(seed)\n",
        "device = 'cuda' if torch.cuda.is_available() else 'cpu'\n",
        "print(f'DEVICE: {device}')\n",
        "\n",
        "# preprocess data\n",
        "train_X, train_y, train_len = preprocess_data(split='train', feat_dir='./libriphone/feat', phone_path='./libriphone', concat_nframes=concat_nframes, train_ratio=train_ratio, random_seed=seed)\n",
        "val_X, val_y, val_len = preprocess_data(split='val', feat_dir='./libriphone/feat', phone_path='./libriphone', concat_nframes=concat_nframes, train_ratio=train_ratio, random_seed=seed)\n",
        "\n",
        "# get dataset\n",
        "train_set = LibriDataset(train_X, train_y, train_len)\n",
        "val_set = LibriDataset(val_X, val_y, val_len)\n",
        "\n",
        "# remove raw feature to save memory\n",
        "del train_X, train_y, val_X, val_y, train_len, val_len\n",
        "gc.collect()\n",
        "\n",
        "# get dataloader\n",
        "train_loader = DataLoader(train_set, batch_size=batch_size, shuffle=True)\n",
        "val_loader = DataLoader(val_set, batch_size=batch_size, shuffle=False)"
      ]
    },
    {
      "cell_type": "markdown",
      "metadata": {
        "id": "pwWH1KIqzxEr"
      },
      "source": [
        "# Training"
      ]
    },
    {
      "cell_type": "code",
      "execution_count": 34,
      "metadata": {
        "id": "CdMWsBs7zzNs"
      },
      "outputs": [
        {
          "name": "stderr",
          "output_type": "stream",
          "text": [
            "100%|██████████| 51/51 [00:33<00:00,  1.52it/s]\n",
            "100%|██████████| 3/3 [00:00<00:00,  4.20it/s]\n"
          ]
        },
        {
          "name": "stdout",
          "output_type": "stream",
          "text": [
            "[001/500] Train Acc: 0.35005 Loss: 1.50679 | Val Acc: 0.48674 loss: 1.05583\n",
            "saving model with acc 0.48674\n"
          ]
        },
        {
          "name": "stderr",
          "output_type": "stream",
          "text": [
            "100%|██████████| 51/51 [00:34<00:00,  1.50it/s]\n",
            "100%|██████████| 3/3 [00:00<00:00,  4.04it/s]\n"
          ]
        },
        {
          "name": "stdout",
          "output_type": "stream",
          "text": [
            "[002/500] Train Acc: 0.54792 Loss: 0.89712 | Val Acc: 0.59956 loss: 0.79956\n",
            "saving model with acc 0.59956\n"
          ]
        },
        {
          "name": "stderr",
          "output_type": "stream",
          "text": [
            "100%|██████████| 51/51 [00:34<00:00,  1.48it/s]\n",
            "100%|██████████| 3/3 [00:00<00:00,  4.56it/s]\n"
          ]
        },
        {
          "name": "stdout",
          "output_type": "stream",
          "text": [
            "[003/500] Train Acc: 0.62944 Loss: 0.72857 | Val Acc: 0.66101 loss: 0.67892\n",
            "saving model with acc 0.66101\n"
          ]
        },
        {
          "name": "stderr",
          "output_type": "stream",
          "text": [
            "100%|██████████| 51/51 [00:34<00:00,  1.48it/s]\n",
            "100%|██████████| 3/3 [00:00<00:00,  4.31it/s]\n"
          ]
        },
        {
          "name": "stdout",
          "output_type": "stream",
          "text": [
            "[004/500] Train Acc: 0.67671 Loss: 0.63303 | Val Acc: 0.70026 loss: 0.59943\n",
            "saving model with acc 0.70026\n"
          ]
        },
        {
          "name": "stderr",
          "output_type": "stream",
          "text": [
            "100%|██████████| 51/51 [00:34<00:00,  1.46it/s]\n",
            "100%|██████████| 3/3 [00:00<00:00,  4.30it/s]\n"
          ]
        },
        {
          "name": "stdout",
          "output_type": "stream",
          "text": [
            "[005/500] Train Acc: 0.70552 Loss: 0.57433 | Val Acc: 0.71884 loss: 0.56121\n",
            "saving model with acc 0.71884\n"
          ]
        },
        {
          "name": "stderr",
          "output_type": "stream",
          "text": [
            "100%|██████████| 51/51 [00:34<00:00,  1.47it/s]\n",
            "100%|██████████| 3/3 [00:00<00:00,  4.05it/s]\n"
          ]
        },
        {
          "name": "stdout",
          "output_type": "stream",
          "text": [
            "[006/500] Train Acc: 0.72606 Loss: 0.53287 | Val Acc: 0.73344 loss: 0.52902\n",
            "saving model with acc 0.73344\n"
          ]
        },
        {
          "name": "stderr",
          "output_type": "stream",
          "text": [
            "100%|██████████| 51/51 [00:34<00:00,  1.47it/s]\n",
            "100%|██████████| 3/3 [00:00<00:00,  4.34it/s]\n"
          ]
        },
        {
          "name": "stdout",
          "output_type": "stream",
          "text": [
            "[007/500] Train Acc: 0.73971 Loss: 0.50493 | Val Acc: 0.74648 loss: 0.50445\n",
            "saving model with acc 0.74648\n"
          ]
        },
        {
          "name": "stderr",
          "output_type": "stream",
          "text": [
            "100%|██████████| 51/51 [00:34<00:00,  1.46it/s]\n",
            "100%|██████████| 3/3 [00:00<00:00,  4.01it/s]\n"
          ]
        },
        {
          "name": "stdout",
          "output_type": "stream",
          "text": [
            "[008/500] Train Acc: 0.75016 Loss: 0.48476 | Val Acc: 0.75279 loss: 0.49106\n",
            "saving model with acc 0.75279\n"
          ]
        },
        {
          "name": "stderr",
          "output_type": "stream",
          "text": [
            "100%|██████████| 51/51 [00:34<00:00,  1.47it/s]\n",
            "100%|██████████| 3/3 [00:00<00:00,  4.00it/s]\n"
          ]
        },
        {
          "name": "stdout",
          "output_type": "stream",
          "text": [
            "[009/500] Train Acc: 0.75677 Loss: 0.47193 | Val Acc: 0.75775 loss: 0.48157\n",
            "saving model with acc 0.75775\n"
          ]
        },
        {
          "name": "stderr",
          "output_type": "stream",
          "text": [
            "100%|██████████| 51/51 [00:34<00:00,  1.46it/s]\n",
            "100%|██████████| 3/3 [00:00<00:00,  4.54it/s]\n"
          ]
        },
        {
          "name": "stdout",
          "output_type": "stream",
          "text": [
            "[010/500] Train Acc: 0.76048 Loss: 0.46473 | Val Acc: 0.75858 loss: 0.47964\n",
            "saving model with acc 0.75858\n"
          ]
        },
        {
          "name": "stderr",
          "output_type": "stream",
          "text": [
            "100%|██████████| 51/51 [00:34<00:00,  1.46it/s]\n",
            "100%|██████████| 3/3 [00:00<00:00,  4.19it/s]\n"
          ]
        },
        {
          "name": "stdout",
          "output_type": "stream",
          "text": [
            "[011/500] Train Acc: 0.76170 Loss: 0.46216 | Val Acc: 0.75943 loss: 0.47857\n",
            "saving model with acc 0.75943\n"
          ]
        },
        {
          "name": "stderr",
          "output_type": "stream",
          "text": [
            "100%|██████████| 51/51 [00:34<00:00,  1.46it/s]\n",
            "100%|██████████| 3/3 [00:00<00:00,  4.18it/s]\n"
          ]
        },
        {
          "name": "stdout",
          "output_type": "stream",
          "text": [
            "[012/500] Train Acc: 0.76149 Loss: 0.46234 | Val Acc: 0.75959 loss: 0.47771\n",
            "saving model with acc 0.75959\n"
          ]
        },
        {
          "name": "stderr",
          "output_type": "stream",
          "text": [
            "100%|██████████| 51/51 [00:35<00:00,  1.46it/s]\n",
            "100%|██████████| 3/3 [00:00<00:00,  4.30it/s]\n"
          ]
        },
        {
          "name": "stdout",
          "output_type": "stream",
          "text": [
            "[013/500] Train Acc: 0.76141 Loss: 0.46245 | Val Acc: 0.75989 loss: 0.47551\n",
            "saving model with acc 0.75989\n"
          ]
        },
        {
          "name": "stderr",
          "output_type": "stream",
          "text": [
            "100%|██████████| 51/51 [00:34<00:00,  1.46it/s]\n",
            "100%|██████████| 3/3 [00:00<00:00,  4.00it/s]\n"
          ]
        },
        {
          "name": "stdout",
          "output_type": "stream",
          "text": [
            "[014/500] Train Acc: 0.76246 Loss: 0.45898 | Val Acc: 0.76341 loss: 0.47104\n",
            "saving model with acc 0.76341\n"
          ]
        },
        {
          "name": "stderr",
          "output_type": "stream",
          "text": [
            "100%|██████████| 51/51 [00:34<00:00,  1.46it/s]\n",
            "100%|██████████| 3/3 [00:00<00:00,  4.28it/s]\n"
          ]
        },
        {
          "name": "stdout",
          "output_type": "stream",
          "text": [
            "[015/500] Train Acc: 0.76391 Loss: 0.45492 | Val Acc: 0.76623 loss: 0.46540\n",
            "saving model with acc 0.76623\n"
          ]
        },
        {
          "name": "stderr",
          "output_type": "stream",
          "text": [
            "100%|██████████| 51/51 [00:34<00:00,  1.46it/s]\n",
            "100%|██████████| 3/3 [00:00<00:00,  4.21it/s]\n"
          ]
        },
        {
          "name": "stdout",
          "output_type": "stream",
          "text": [
            "[016/500] Train Acc: 0.76911 Loss: 0.44445 | Val Acc: 0.76818 loss: 0.45663\n",
            "saving model with acc 0.76818\n"
          ]
        },
        {
          "name": "stderr",
          "output_type": "stream",
          "text": [
            "100%|██████████| 51/51 [00:34<00:00,  1.47it/s]\n",
            "100%|██████████| 3/3 [00:00<00:00,  4.28it/s]\n"
          ]
        },
        {
          "name": "stdout",
          "output_type": "stream",
          "text": [
            "[017/500] Train Acc: 0.77395 Loss: 0.43413 | Val Acc: 0.76933 loss: 0.45542\n",
            "saving model with acc 0.76933\n"
          ]
        },
        {
          "name": "stderr",
          "output_type": "stream",
          "text": [
            "100%|██████████| 51/51 [00:34<00:00,  1.47it/s]\n",
            "100%|██████████| 3/3 [00:00<00:00,  4.12it/s]\n"
          ]
        },
        {
          "name": "stdout",
          "output_type": "stream",
          "text": [
            "[018/500] Train Acc: 0.78143 Loss: 0.41856 | Val Acc: 0.78056 loss: 0.43177\n",
            "saving model with acc 0.78056\n"
          ]
        },
        {
          "name": "stderr",
          "output_type": "stream",
          "text": [
            "100%|██████████| 51/51 [00:34<00:00,  1.46it/s]\n",
            "100%|██████████| 3/3 [00:00<00:00,  4.55it/s]\n"
          ]
        },
        {
          "name": "stdout",
          "output_type": "stream",
          "text": [
            "[019/500] Train Acc: 0.78906 Loss: 0.40244 | Val Acc: 0.77991 loss: 0.43309\n"
          ]
        },
        {
          "name": "stderr",
          "output_type": "stream",
          "text": [
            "100%|██████████| 51/51 [00:34<00:00,  1.47it/s]\n",
            "100%|██████████| 3/3 [00:00<00:00,  4.33it/s]\n"
          ]
        },
        {
          "name": "stdout",
          "output_type": "stream",
          "text": [
            "[020/500] Train Acc: 0.79743 Loss: 0.38488 | Val Acc: 0.78672 loss: 0.42184\n",
            "saving model with acc 0.78672\n"
          ]
        },
        {
          "name": "stderr",
          "output_type": "stream",
          "text": [
            "100%|██████████| 51/51 [00:34<00:00,  1.47it/s]\n",
            "100%|██████████| 3/3 [00:00<00:00,  4.23it/s]\n"
          ]
        },
        {
          "name": "stdout",
          "output_type": "stream",
          "text": [
            "[021/500] Train Acc: 0.80662 Loss: 0.36505 | Val Acc: 0.79165 loss: 0.41080\n",
            "saving model with acc 0.79165\n"
          ]
        },
        {
          "name": "stderr",
          "output_type": "stream",
          "text": [
            "100%|██████████| 51/51 [00:34<00:00,  1.46it/s]\n",
            "100%|██████████| 3/3 [00:00<00:00,  4.45it/s]\n"
          ]
        },
        {
          "name": "stdout",
          "output_type": "stream",
          "text": [
            "[022/500] Train Acc: 0.81615 Loss: 0.34669 | Val Acc: 0.79095 loss: 0.40942\n"
          ]
        },
        {
          "name": "stderr",
          "output_type": "stream",
          "text": [
            "100%|██████████| 51/51 [00:34<00:00,  1.48it/s]\n",
            "100%|██████████| 3/3 [00:00<00:00,  4.07it/s]\n"
          ]
        },
        {
          "name": "stdout",
          "output_type": "stream",
          "text": [
            "[023/500] Train Acc: 0.82622 Loss: 0.32486 | Val Acc: 0.80292 loss: 0.39003\n",
            "saving model with acc 0.80292\n"
          ]
        },
        {
          "name": "stderr",
          "output_type": "stream",
          "text": [
            "100%|██████████| 51/51 [00:34<00:00,  1.48it/s]\n",
            "100%|██████████| 3/3 [00:00<00:00,  4.31it/s]\n"
          ]
        },
        {
          "name": "stdout",
          "output_type": "stream",
          "text": [
            "[024/500] Train Acc: 0.83659 Loss: 0.30536 | Val Acc: 0.80625 loss: 0.38229\n",
            "saving model with acc 0.80625\n"
          ]
        },
        {
          "name": "stderr",
          "output_type": "stream",
          "text": [
            "100%|██████████| 51/51 [00:34<00:00,  1.48it/s]\n",
            "100%|██████████| 3/3 [00:00<00:00,  4.47it/s]\n"
          ]
        },
        {
          "name": "stdout",
          "output_type": "stream",
          "text": [
            "[025/500] Train Acc: 0.84529 Loss: 0.28829 | Val Acc: 0.80826 loss: 0.38279\n",
            "saving model with acc 0.80826\n"
          ]
        },
        {
          "name": "stderr",
          "output_type": "stream",
          "text": [
            "100%|██████████| 51/51 [00:34<00:00,  1.48it/s]\n",
            "100%|██████████| 3/3 [00:00<00:00,  4.27it/s]\n"
          ]
        },
        {
          "name": "stdout",
          "output_type": "stream",
          "text": [
            "[026/500] Train Acc: 0.85311 Loss: 0.27169 | Val Acc: 0.81325 loss: 0.37474\n",
            "saving model with acc 0.81325\n"
          ]
        },
        {
          "name": "stderr",
          "output_type": "stream",
          "text": [
            "100%|██████████| 51/51 [00:34<00:00,  1.47it/s]\n",
            "100%|██████████| 3/3 [00:00<00:00,  4.51it/s]\n"
          ]
        },
        {
          "name": "stdout",
          "output_type": "stream",
          "text": [
            "[027/500] Train Acc: 0.86023 Loss: 0.25846 | Val Acc: 0.81440 loss: 0.37296\n",
            "saving model with acc 0.81440\n"
          ]
        },
        {
          "name": "stderr",
          "output_type": "stream",
          "text": [
            "100%|██████████| 51/51 [00:34<00:00,  1.47it/s]\n",
            "100%|██████████| 3/3 [00:00<00:00,  4.35it/s]\n"
          ]
        },
        {
          "name": "stdout",
          "output_type": "stream",
          "text": [
            "[028/500] Train Acc: 0.86513 Loss: 0.24886 | Val Acc: 0.81424 loss: 0.37218\n"
          ]
        },
        {
          "name": "stderr",
          "output_type": "stream",
          "text": [
            "100%|██████████| 51/51 [00:34<00:00,  1.46it/s]\n",
            "100%|██████████| 3/3 [00:00<00:00,  4.25it/s]\n"
          ]
        },
        {
          "name": "stdout",
          "output_type": "stream",
          "text": [
            "[029/500] Train Acc: 0.86887 Loss: 0.24081 | Val Acc: 0.81664 loss: 0.36967\n",
            "saving model with acc 0.81664\n"
          ]
        },
        {
          "name": "stderr",
          "output_type": "stream",
          "text": [
            "100%|██████████| 51/51 [00:35<00:00,  1.45it/s]\n",
            "100%|██████████| 3/3 [00:00<00:00,  4.28it/s]\n"
          ]
        },
        {
          "name": "stdout",
          "output_type": "stream",
          "text": [
            "[030/500] Train Acc: 0.87092 Loss: 0.23715 | Val Acc: 0.81780 loss: 0.36761\n",
            "saving model with acc 0.81780\n"
          ]
        },
        {
          "name": "stderr",
          "output_type": "stream",
          "text": [
            "100%|██████████| 51/51 [00:34<00:00,  1.47it/s]\n",
            "100%|██████████| 3/3 [00:00<00:00,  4.34it/s]\n"
          ]
        },
        {
          "name": "stdout",
          "output_type": "stream",
          "text": [
            "[031/500] Train Acc: 0.87200 Loss: 0.23530 | Val Acc: 0.81793 loss: 0.36761\n",
            "saving model with acc 0.81793\n"
          ]
        },
        {
          "name": "stderr",
          "output_type": "stream",
          "text": [
            "100%|██████████| 51/51 [00:34<00:00,  1.46it/s]\n",
            "100%|██████████| 3/3 [00:00<00:00,  4.26it/s]\n"
          ]
        },
        {
          "name": "stdout",
          "output_type": "stream",
          "text": [
            "[032/500] Train Acc: 0.87188 Loss: 0.23531 | Val Acc: 0.81810 loss: 0.36768\n",
            "saving model with acc 0.81810\n"
          ]
        },
        {
          "name": "stderr",
          "output_type": "stream",
          "text": [
            "100%|██████████| 51/51 [00:34<00:00,  1.46it/s]\n",
            "100%|██████████| 3/3 [00:00<00:00,  4.24it/s]\n"
          ]
        },
        {
          "name": "stdout",
          "output_type": "stream",
          "text": [
            "[033/500] Train Acc: 0.87107 Loss: 0.23632 | Val Acc: 0.81727 loss: 0.36976\n"
          ]
        },
        {
          "name": "stderr",
          "output_type": "stream",
          "text": [
            "100%|██████████| 51/51 [00:34<00:00,  1.46it/s]\n",
            "100%|██████████| 3/3 [00:00<00:00,  4.23it/s]\n"
          ]
        },
        {
          "name": "stdout",
          "output_type": "stream",
          "text": [
            "[034/500] Train Acc: 0.87037 Loss: 0.23719 | Val Acc: 0.81701 loss: 0.36989\n"
          ]
        },
        {
          "name": "stderr",
          "output_type": "stream",
          "text": [
            "100%|██████████| 51/51 [00:35<00:00,  1.46it/s]\n",
            "100%|██████████| 3/3 [00:00<00:00,  4.48it/s]\n"
          ]
        },
        {
          "name": "stdout",
          "output_type": "stream",
          "text": [
            "[035/500] Train Acc: 0.86903 Loss: 0.23868 | Val Acc: 0.81539 loss: 0.37813\n"
          ]
        },
        {
          "name": "stderr",
          "output_type": "stream",
          "text": [
            "100%|██████████| 51/51 [00:34<00:00,  1.46it/s]\n",
            "100%|██████████| 3/3 [00:00<00:00,  4.08it/s]\n"
          ]
        },
        {
          "name": "stdout",
          "output_type": "stream",
          "text": [
            "[036/500] Train Acc: 0.86750 Loss: 0.23996 | Val Acc: 0.81306 loss: 0.38504\n"
          ]
        },
        {
          "name": "stderr",
          "output_type": "stream",
          "text": [
            "100%|██████████| 51/51 [00:34<00:00,  1.46it/s]\n",
            "100%|██████████| 3/3 [00:00<00:00,  4.19it/s]\n"
          ]
        },
        {
          "name": "stdout",
          "output_type": "stream",
          "text": [
            "[037/500] Train Acc: 0.86524 Loss: 0.24281 | Val Acc: 0.81062 loss: 0.38860\n"
          ]
        },
        {
          "name": "stderr",
          "output_type": "stream",
          "text": [
            "100%|██████████| 51/51 [00:34<00:00,  1.46it/s]\n",
            "100%|██████████| 3/3 [00:00<00:00,  4.35it/s]\n"
          ]
        },
        {
          "name": "stdout",
          "output_type": "stream",
          "text": [
            "[038/500] Train Acc: 0.86474 Loss: 0.24319 | Val Acc: 0.81011 loss: 0.38994\n"
          ]
        },
        {
          "name": "stderr",
          "output_type": "stream",
          "text": [
            "100%|██████████| 51/51 [00:34<00:00,  1.46it/s]\n",
            "100%|██████████| 3/3 [00:00<00:00,  4.34it/s]\n"
          ]
        },
        {
          "name": "stdout",
          "output_type": "stream",
          "text": [
            "[039/500] Train Acc: 0.86640 Loss: 0.23935 | Val Acc: 0.81290 loss: 0.38905\n"
          ]
        },
        {
          "name": "stderr",
          "output_type": "stream",
          "text": [
            "100%|██████████| 51/51 [00:34<00:00,  1.47it/s]\n",
            "100%|██████████| 3/3 [00:00<00:00,  4.35it/s]\n"
          ]
        },
        {
          "name": "stdout",
          "output_type": "stream",
          "text": [
            "[040/500] Train Acc: 0.86609 Loss: 0.23996 | Val Acc: 0.80777 loss: 0.40131\n"
          ]
        },
        {
          "name": "stderr",
          "output_type": "stream",
          "text": [
            "100%|██████████| 51/51 [00:34<00:00,  1.46it/s]\n",
            "100%|██████████| 3/3 [00:00<00:00,  4.22it/s]\n"
          ]
        },
        {
          "name": "stdout",
          "output_type": "stream",
          "text": [
            "[041/500] Train Acc: 0.87127 Loss: 0.22954 | Val Acc: 0.81026 loss: 0.39773\n"
          ]
        },
        {
          "name": "stderr",
          "output_type": "stream",
          "text": [
            "100%|██████████| 51/51 [00:34<00:00,  1.46it/s]\n",
            "100%|██████████| 3/3 [00:00<00:00,  4.58it/s]\n"
          ]
        },
        {
          "name": "stdout",
          "output_type": "stream",
          "text": [
            "[042/500] Train Acc: 0.87613 Loss: 0.21853 | Val Acc: 0.81472 loss: 0.39329\n"
          ]
        },
        {
          "name": "stderr",
          "output_type": "stream",
          "text": [
            "100%|██████████| 51/51 [00:34<00:00,  1.46it/s]\n",
            "100%|██████████| 3/3 [00:00<00:00,  4.32it/s]\n"
          ]
        },
        {
          "name": "stdout",
          "output_type": "stream",
          "text": [
            "[043/500] Train Acc: 0.88364 Loss: 0.20527 | Val Acc: 0.81884 loss: 0.38791\n",
            "saving model with acc 0.81884\n"
          ]
        },
        {
          "name": "stderr",
          "output_type": "stream",
          "text": [
            "100%|██████████| 51/51 [00:34<00:00,  1.46it/s]\n",
            "100%|██████████| 3/3 [00:00<00:00,  4.15it/s]\n"
          ]
        },
        {
          "name": "stdout",
          "output_type": "stream",
          "text": [
            "[044/500] Train Acc: 0.89088 Loss: 0.19165 | Val Acc: 0.82044 loss: 0.38963\n",
            "saving model with acc 0.82044\n"
          ]
        },
        {
          "name": "stderr",
          "output_type": "stream",
          "text": [
            "100%|██████████| 51/51 [00:34<00:00,  1.47it/s]\n",
            "100%|██████████| 3/3 [00:00<00:00,  4.27it/s]\n"
          ]
        },
        {
          "name": "stdout",
          "output_type": "stream",
          "text": [
            "[045/500] Train Acc: 0.89760 Loss: 0.17915 | Val Acc: 0.82078 loss: 0.39448\n",
            "saving model with acc 0.82078\n"
          ]
        },
        {
          "name": "stderr",
          "output_type": "stream",
          "text": [
            "100%|██████████| 51/51 [00:34<00:00,  1.47it/s]\n",
            "100%|██████████| 3/3 [00:00<00:00,  4.24it/s]\n"
          ]
        },
        {
          "name": "stdout",
          "output_type": "stream",
          "text": [
            "[046/500] Train Acc: 0.90358 Loss: 0.16748 | Val Acc: 0.82283 loss: 0.38990\n",
            "saving model with acc 0.82283\n"
          ]
        },
        {
          "name": "stderr",
          "output_type": "stream",
          "text": [
            "100%|██████████| 51/51 [00:34<00:00,  1.47it/s]\n",
            "100%|██████████| 3/3 [00:00<00:00,  4.37it/s]\n"
          ]
        },
        {
          "name": "stdout",
          "output_type": "stream",
          "text": [
            "[047/500] Train Acc: 0.90809 Loss: 0.15923 | Val Acc: 0.82477 loss: 0.38925\n",
            "saving model with acc 0.82477\n"
          ]
        },
        {
          "name": "stderr",
          "output_type": "stream",
          "text": [
            "100%|██████████| 51/51 [00:34<00:00,  1.48it/s]\n",
            "100%|██████████| 3/3 [00:00<00:00,  4.14it/s]\n"
          ]
        },
        {
          "name": "stdout",
          "output_type": "stream",
          "text": [
            "[048/500] Train Acc: 0.91205 Loss: 0.15199 | Val Acc: 0.82667 loss: 0.38664\n",
            "saving model with acc 0.82667\n"
          ]
        },
        {
          "name": "stderr",
          "output_type": "stream",
          "text": [
            "100%|██████████| 51/51 [00:34<00:00,  1.48it/s]\n",
            "100%|██████████| 3/3 [00:00<00:00,  4.36it/s]\n"
          ]
        },
        {
          "name": "stdout",
          "output_type": "stream",
          "text": [
            "[049/500] Train Acc: 0.91433 Loss: 0.14802 | Val Acc: 0.82743 loss: 0.38486\n",
            "saving model with acc 0.82743\n"
          ]
        },
        {
          "name": "stderr",
          "output_type": "stream",
          "text": [
            "100%|██████████| 51/51 [00:34<00:00,  1.48it/s]\n",
            "100%|██████████| 3/3 [00:00<00:00,  3.42it/s]\n"
          ]
        },
        {
          "name": "stdout",
          "output_type": "stream",
          "text": [
            "[050/500] Train Acc: 0.91659 Loss: 0.14435 | Val Acc: 0.82754 loss: 0.38477\n",
            "saving model with acc 0.82754\n"
          ]
        },
        {
          "name": "stderr",
          "output_type": "stream",
          "text": [
            "100%|██████████| 51/51 [00:34<00:00,  1.47it/s]\n",
            "100%|██████████| 3/3 [00:00<00:00,  4.20it/s]\n"
          ]
        },
        {
          "name": "stdout",
          "output_type": "stream",
          "text": [
            "[051/500] Train Acc: 0.91646 Loss: 0.14389 | Val Acc: 0.82760 loss: 0.38437\n",
            "saving model with acc 0.82760\n"
          ]
        },
        {
          "name": "stderr",
          "output_type": "stream",
          "text": [
            "100%|██████████| 51/51 [00:34<00:00,  1.48it/s]\n",
            "100%|██████████| 3/3 [00:00<00:00,  4.40it/s]\n"
          ]
        },
        {
          "name": "stdout",
          "output_type": "stream",
          "text": [
            "[052/500] Train Acc: 0.91635 Loss: 0.14435 | Val Acc: 0.82804 loss: 0.38421\n",
            "saving model with acc 0.82804\n"
          ]
        },
        {
          "name": "stderr",
          "output_type": "stream",
          "text": [
            "100%|██████████| 51/51 [00:34<00:00,  1.48it/s]\n",
            "100%|██████████| 3/3 [00:00<00:00,  4.26it/s]\n"
          ]
        },
        {
          "name": "stdout",
          "output_type": "stream",
          "text": [
            "[053/500] Train Acc: 0.91617 Loss: 0.14405 | Val Acc: 0.82785 loss: 0.38579\n"
          ]
        },
        {
          "name": "stderr",
          "output_type": "stream",
          "text": [
            "100%|██████████| 51/51 [00:34<00:00,  1.47it/s]\n",
            "100%|██████████| 3/3 [00:00<00:00,  4.21it/s]\n"
          ]
        },
        {
          "name": "stdout",
          "output_type": "stream",
          "text": [
            "[054/500] Train Acc: 0.91582 Loss: 0.14482 | Val Acc: 0.82725 loss: 0.38976\n"
          ]
        },
        {
          "name": "stderr",
          "output_type": "stream",
          "text": [
            "100%|██████████| 51/51 [00:34<00:00,  1.47it/s]\n",
            "100%|██████████| 3/3 [00:00<00:00,  4.29it/s]\n"
          ]
        },
        {
          "name": "stdout",
          "output_type": "stream",
          "text": [
            "[055/500] Train Acc: 0.91471 Loss: 0.14663 | Val Acc: 0.82706 loss: 0.39421\n"
          ]
        },
        {
          "name": "stderr",
          "output_type": "stream",
          "text": [
            "100%|██████████| 51/51 [00:34<00:00,  1.46it/s]\n",
            "100%|██████████| 3/3 [00:00<00:00,  4.32it/s]\n"
          ]
        },
        {
          "name": "stdout",
          "output_type": "stream",
          "text": [
            "[056/500] Train Acc: 0.91334 Loss: 0.14875 | Val Acc: 0.82533 loss: 0.40508\n"
          ]
        },
        {
          "name": "stderr",
          "output_type": "stream",
          "text": [
            "100%|██████████| 51/51 [00:34<00:00,  1.46it/s]\n",
            "100%|██████████| 3/3 [00:00<00:00,  3.50it/s]\n"
          ]
        },
        {
          "name": "stdout",
          "output_type": "stream",
          "text": [
            "[057/500] Train Acc: 0.90890 Loss: 0.15532 | Val Acc: 0.82055 loss: 0.41139\n"
          ]
        },
        {
          "name": "stderr",
          "output_type": "stream",
          "text": [
            "100%|██████████| 51/51 [00:34<00:00,  1.47it/s]\n",
            "100%|██████████| 3/3 [00:00<00:00,  4.18it/s]\n"
          ]
        },
        {
          "name": "stdout",
          "output_type": "stream",
          "text": [
            "[058/500] Train Acc: 0.90434 Loss: 0.16348 | Val Acc: 0.81934 loss: 0.41301\n"
          ]
        },
        {
          "name": "stderr",
          "output_type": "stream",
          "text": [
            "100%|██████████| 51/51 [00:35<00:00,  1.46it/s]\n",
            "100%|██████████| 3/3 [00:00<00:00,  4.16it/s]\n"
          ]
        },
        {
          "name": "stdout",
          "output_type": "stream",
          "text": [
            "[059/500] Train Acc: 0.89966 Loss: 0.17186 | Val Acc: 0.81209 loss: 0.41502\n"
          ]
        },
        {
          "name": "stderr",
          "output_type": "stream",
          "text": [
            "100%|██████████| 51/51 [00:34<00:00,  1.46it/s]\n",
            "100%|██████████| 3/3 [00:00<00:00,  4.23it/s]\n"
          ]
        },
        {
          "name": "stdout",
          "output_type": "stream",
          "text": [
            "[060/500] Train Acc: 0.89818 Loss: 0.17451 | Val Acc: 0.81302 loss: 0.42211\n"
          ]
        },
        {
          "name": "stderr",
          "output_type": "stream",
          "text": [
            "100%|██████████| 51/51 [00:35<00:00,  1.45it/s]\n",
            "100%|██████████| 3/3 [00:00<00:00,  4.04it/s]\n"
          ]
        },
        {
          "name": "stdout",
          "output_type": "stream",
          "text": [
            "[061/500] Train Acc: 0.89878 Loss: 0.17316 | Val Acc: 0.81210 loss: 0.42357\n"
          ]
        },
        {
          "name": "stderr",
          "output_type": "stream",
          "text": [
            "100%|██████████| 51/51 [00:34<00:00,  1.46it/s]\n",
            "100%|██████████| 3/3 [00:00<00:00,  4.27it/s]\n"
          ]
        },
        {
          "name": "stdout",
          "output_type": "stream",
          "text": [
            "[062/500] Train Acc: 0.90167 Loss: 0.16787 | Val Acc: 0.81831 loss: 0.41594\n"
          ]
        },
        {
          "name": "stderr",
          "output_type": "stream",
          "text": [
            "100%|██████████| 51/51 [00:34<00:00,  1.46it/s]\n",
            "100%|██████████| 3/3 [00:00<00:00,  4.31it/s]\n"
          ]
        },
        {
          "name": "stdout",
          "output_type": "stream",
          "text": [
            "[063/500] Train Acc: 0.90617 Loss: 0.16017 | Val Acc: 0.81819 loss: 0.41260\n"
          ]
        },
        {
          "name": "stderr",
          "output_type": "stream",
          "text": [
            "100%|██████████| 51/51 [00:34<00:00,  1.46it/s]\n",
            "100%|██████████| 3/3 [00:00<00:00,  4.46it/s]\n"
          ]
        },
        {
          "name": "stdout",
          "output_type": "stream",
          "text": [
            "[064/500] Train Acc: 0.91379 Loss: 0.14591 | Val Acc: 0.82468 loss: 0.40784\n"
          ]
        },
        {
          "name": "stderr",
          "output_type": "stream",
          "text": [
            "100%|██████████| 51/51 [00:34<00:00,  1.46it/s]\n",
            "100%|██████████| 3/3 [00:00<00:00,  4.16it/s]\n"
          ]
        },
        {
          "name": "stdout",
          "output_type": "stream",
          "text": [
            "[065/500] Train Acc: 0.92002 Loss: 0.13424 | Val Acc: 0.82578 loss: 0.41035\n"
          ]
        },
        {
          "name": "stderr",
          "output_type": "stream",
          "text": [
            "100%|██████████| 51/51 [00:34<00:00,  1.47it/s]\n",
            "100%|██████████| 3/3 [00:00<00:00,  4.23it/s]\n"
          ]
        },
        {
          "name": "stdout",
          "output_type": "stream",
          "text": [
            "[066/500] Train Acc: 0.92454 Loss: 0.12601 | Val Acc: 0.82750 loss: 0.40546\n"
          ]
        },
        {
          "name": "stderr",
          "output_type": "stream",
          "text": [
            "100%|██████████| 51/51 [00:34<00:00,  1.47it/s]\n",
            "100%|██████████| 3/3 [00:00<00:00,  4.29it/s]\n"
          ]
        },
        {
          "name": "stdout",
          "output_type": "stream",
          "text": [
            "[067/500] Train Acc: 0.92852 Loss: 0.11892 | Val Acc: 0.82918 loss: 0.40853\n",
            "saving model with acc 0.82918\n"
          ]
        },
        {
          "name": "stderr",
          "output_type": "stream",
          "text": [
            "100%|██████████| 51/51 [00:34<00:00,  1.46it/s]\n",
            "100%|██████████| 3/3 [00:00<00:00,  4.22it/s]\n"
          ]
        },
        {
          "name": "stdout",
          "output_type": "stream",
          "text": [
            "[068/500] Train Acc: 0.93105 Loss: 0.11427 | Val Acc: 0.83033 loss: 0.40637\n",
            "saving model with acc 0.83033\n"
          ]
        },
        {
          "name": "stderr",
          "output_type": "stream",
          "text": [
            "100%|██████████| 51/51 [00:34<00:00,  1.46it/s]\n",
            "100%|██████████| 3/3 [00:00<00:00,  4.09it/s]\n"
          ]
        },
        {
          "name": "stdout",
          "output_type": "stream",
          "text": [
            "[069/500] Train Acc: 0.93337 Loss: 0.11042 | Val Acc: 0.83152 loss: 0.40630\n",
            "saving model with acc 0.83152\n"
          ]
        },
        {
          "name": "stderr",
          "output_type": "stream",
          "text": [
            "100%|██████████| 51/51 [00:34<00:00,  1.46it/s]\n",
            "100%|██████████| 3/3 [00:00<00:00,  4.10it/s]\n"
          ]
        },
        {
          "name": "stdout",
          "output_type": "stream",
          "text": [
            "[070/500] Train Acc: 0.93431 Loss: 0.10886 | Val Acc: 0.83190 loss: 0.40616\n",
            "saving model with acc 0.83190\n"
          ]
        },
        {
          "name": "stderr",
          "output_type": "stream",
          "text": [
            "100%|██████████| 51/51 [00:34<00:00,  1.46it/s]\n",
            "100%|██████████| 3/3 [00:00<00:00,  4.23it/s]\n"
          ]
        },
        {
          "name": "stdout",
          "output_type": "stream",
          "text": [
            "[071/500] Train Acc: 0.93451 Loss: 0.10843 | Val Acc: 0.83170 loss: 0.40619\n"
          ]
        },
        {
          "name": "stderr",
          "output_type": "stream",
          "text": [
            "100%|██████████| 51/51 [00:34<00:00,  1.47it/s]\n",
            "100%|██████████| 3/3 [00:00<00:00,  4.33it/s]\n"
          ]
        },
        {
          "name": "stdout",
          "output_type": "stream",
          "text": [
            "[072/500] Train Acc: 0.93475 Loss: 0.10833 | Val Acc: 0.83203 loss: 0.40622\n",
            "saving model with acc 0.83203\n"
          ]
        },
        {
          "name": "stderr",
          "output_type": "stream",
          "text": [
            "100%|██████████| 51/51 [00:34<00:00,  1.46it/s]\n",
            "100%|██████████| 3/3 [00:00<00:00,  4.22it/s]\n"
          ]
        },
        {
          "name": "stdout",
          "output_type": "stream",
          "text": [
            "[073/500] Train Acc: 0.93427 Loss: 0.10836 | Val Acc: 0.83202 loss: 0.40823\n"
          ]
        },
        {
          "name": "stderr",
          "output_type": "stream",
          "text": [
            "100%|██████████| 51/51 [00:34<00:00,  1.49it/s]\n",
            "100%|██████████| 3/3 [00:00<00:00,  4.26it/s]\n"
          ]
        },
        {
          "name": "stdout",
          "output_type": "stream",
          "text": [
            "[074/500] Train Acc: 0.93408 Loss: 0.10887 | Val Acc: 0.83253 loss: 0.40851\n",
            "saving model with acc 0.83253\n"
          ]
        },
        {
          "name": "stderr",
          "output_type": "stream",
          "text": [
            "100%|██████████| 51/51 [00:34<00:00,  1.48it/s]\n",
            "100%|██████████| 3/3 [00:00<00:00,  4.28it/s]\n"
          ]
        },
        {
          "name": "stdout",
          "output_type": "stream",
          "text": [
            "[075/500] Train Acc: 0.93349 Loss: 0.10976 | Val Acc: 0.83102 loss: 0.41369\n"
          ]
        },
        {
          "name": "stderr",
          "output_type": "stream",
          "text": [
            "100%|██████████| 51/51 [00:34<00:00,  1.48it/s]\n",
            "100%|██████████| 3/3 [00:00<00:00,  4.53it/s]\n"
          ]
        },
        {
          "name": "stdout",
          "output_type": "stream",
          "text": [
            "[076/500] Train Acc: 0.93239 Loss: 0.11142 | Val Acc: 0.82825 loss: 0.42540\n"
          ]
        },
        {
          "name": "stderr",
          "output_type": "stream",
          "text": [
            "100%|██████████| 51/51 [00:34<00:00,  1.47it/s]\n",
            "100%|██████████| 3/3 [00:00<00:00,  4.37it/s]\n"
          ]
        },
        {
          "name": "stdout",
          "output_type": "stream",
          "text": [
            "[077/500] Train Acc: 0.93028 Loss: 0.11477 | Val Acc: 0.82704 loss: 0.43164\n"
          ]
        },
        {
          "name": "stderr",
          "output_type": "stream",
          "text": [
            "100%|██████████| 51/51 [00:34<00:00,  1.47it/s]\n",
            "100%|██████████| 3/3 [00:00<00:00,  4.26it/s]\n"
          ]
        },
        {
          "name": "stdout",
          "output_type": "stream",
          "text": [
            "[078/500] Train Acc: 0.92609 Loss: 0.12201 | Val Acc: 0.82186 loss: 0.43322\n"
          ]
        },
        {
          "name": "stderr",
          "output_type": "stream",
          "text": [
            "100%|██████████| 51/51 [00:34<00:00,  1.48it/s]\n",
            "100%|██████████| 3/3 [00:00<00:00,  4.44it/s]\n"
          ]
        },
        {
          "name": "stdout",
          "output_type": "stream",
          "text": [
            "[079/500] Train Acc: 0.91920 Loss: 0.13450 | Val Acc: 0.81588 loss: 0.44823\n"
          ]
        },
        {
          "name": "stderr",
          "output_type": "stream",
          "text": [
            "100%|██████████| 51/51 [00:34<00:00,  1.46it/s]\n",
            "100%|██████████| 3/3 [00:00<00:00,  4.27it/s]\n"
          ]
        },
        {
          "name": "stdout",
          "output_type": "stream",
          "text": [
            "[080/500] Train Acc: 0.91094 Loss: 0.14882 | Val Acc: 0.81782 loss: 0.43756\n"
          ]
        },
        {
          "name": "stderr",
          "output_type": "stream",
          "text": [
            "100%|██████████| 51/51 [00:34<00:00,  1.48it/s]\n",
            "100%|██████████| 3/3 [00:00<00:00,  4.37it/s]\n"
          ]
        },
        {
          "name": "stdout",
          "output_type": "stream",
          "text": [
            "[081/500] Train Acc: 0.90909 Loss: 0.15276 | Val Acc: 0.81555 loss: 0.44110\n"
          ]
        },
        {
          "name": "stderr",
          "output_type": "stream",
          "text": [
            "100%|██████████| 51/51 [00:34<00:00,  1.46it/s]\n",
            "100%|██████████| 3/3 [00:00<00:00,  4.16it/s]\n"
          ]
        },
        {
          "name": "stdout",
          "output_type": "stream",
          "text": [
            "[082/500] Train Acc: 0.91431 Loss: 0.14353 | Val Acc: 0.82051 loss: 0.43170\n"
          ]
        },
        {
          "name": "stderr",
          "output_type": "stream",
          "text": [
            "100%|██████████| 51/51 [00:34<00:00,  1.47it/s]\n",
            "100%|██████████| 3/3 [00:00<00:00,  4.12it/s]\n"
          ]
        },
        {
          "name": "stdout",
          "output_type": "stream",
          "text": [
            "[083/500] Train Acc: 0.91902 Loss: 0.13510 | Val Acc: 0.82133 loss: 0.43729\n"
          ]
        },
        {
          "name": "stderr",
          "output_type": "stream",
          "text": [
            "100%|██████████| 51/51 [00:34<00:00,  1.46it/s]\n",
            "100%|██████████| 3/3 [00:00<00:00,  4.19it/s]\n"
          ]
        },
        {
          "name": "stdout",
          "output_type": "stream",
          "text": [
            "[084/500] Train Acc: 0.92514 Loss: 0.12396 | Val Acc: 0.82269 loss: 0.43363\n"
          ]
        },
        {
          "name": "stderr",
          "output_type": "stream",
          "text": [
            "100%|██████████| 51/51 [00:34<00:00,  1.46it/s]\n",
            "100%|██████████| 3/3 [00:00<00:00,  3.99it/s]\n"
          ]
        },
        {
          "name": "stdout",
          "output_type": "stream",
          "text": [
            "[085/500] Train Acc: 0.92946 Loss: 0.11585 | Val Acc: 0.82784 loss: 0.42551\n"
          ]
        },
        {
          "name": "stderr",
          "output_type": "stream",
          "text": [
            "100%|██████████| 51/51 [00:34<00:00,  1.46it/s]\n",
            "100%|██████████| 3/3 [00:00<00:00,  4.09it/s]\n"
          ]
        },
        {
          "name": "stdout",
          "output_type": "stream",
          "text": [
            "[086/500] Train Acc: 0.93485 Loss: 0.10653 | Val Acc: 0.82950 loss: 0.42814\n"
          ]
        },
        {
          "name": "stderr",
          "output_type": "stream",
          "text": [
            "100%|██████████| 51/51 [00:34<00:00,  1.46it/s]\n",
            "100%|██████████| 3/3 [00:00<00:00,  4.18it/s]\n"
          ]
        },
        {
          "name": "stdout",
          "output_type": "stream",
          "text": [
            "[087/500] Train Acc: 0.93871 Loss: 0.09979 | Val Acc: 0.83152 loss: 0.43030\n"
          ]
        },
        {
          "name": "stderr",
          "output_type": "stream",
          "text": [
            "100%|██████████| 51/51 [00:34<00:00,  1.46it/s]\n",
            "100%|██████████| 3/3 [00:00<00:00,  4.13it/s]\n"
          ]
        },
        {
          "name": "stdout",
          "output_type": "stream",
          "text": [
            "[088/500] Train Acc: 0.94073 Loss: 0.09574 | Val Acc: 0.83091 loss: 0.43131\n"
          ]
        },
        {
          "name": "stderr",
          "output_type": "stream",
          "text": [
            "100%|██████████| 51/51 [00:34<00:00,  1.46it/s]\n",
            "100%|██████████| 3/3 [00:00<00:00,  4.04it/s]\n"
          ]
        },
        {
          "name": "stdout",
          "output_type": "stream",
          "text": [
            "[089/500] Train Acc: 0.94233 Loss: 0.09314 | Val Acc: 0.83208 loss: 0.42913\n"
          ]
        },
        {
          "name": "stderr",
          "output_type": "stream",
          "text": [
            "100%|██████████| 51/51 [00:34<00:00,  1.46it/s]\n",
            "100%|██████████| 3/3 [00:00<00:00,  4.02it/s]\n"
          ]
        },
        {
          "name": "stdout",
          "output_type": "stream",
          "text": [
            "[090/500] Train Acc: 0.94323 Loss: 0.09152 | Val Acc: 0.83165 loss: 0.42942\n"
          ]
        },
        {
          "name": "stderr",
          "output_type": "stream",
          "text": [
            "100%|██████████| 51/51 [00:34<00:00,  1.46it/s]\n",
            "100%|██████████| 3/3 [00:00<00:00,  4.26it/s]\n"
          ]
        },
        {
          "name": "stdout",
          "output_type": "stream",
          "text": [
            "[091/500] Train Acc: 0.94346 Loss: 0.09118 | Val Acc: 0.83164 loss: 0.42947\n"
          ]
        },
        {
          "name": "stderr",
          "output_type": "stream",
          "text": [
            "100%|██████████| 51/51 [00:34<00:00,  1.46it/s]\n",
            "100%|██████████| 3/3 [00:00<00:00,  4.01it/s]\n"
          ]
        },
        {
          "name": "stdout",
          "output_type": "stream",
          "text": [
            "[092/500] Train Acc: 0.94363 Loss: 0.09081 | Val Acc: 0.83210 loss: 0.42854\n"
          ]
        },
        {
          "name": "stderr",
          "output_type": "stream",
          "text": [
            "100%|██████████| 51/51 [00:34<00:00,  1.46it/s]\n",
            "100%|██████████| 3/3 [00:00<00:00,  4.19it/s]\n"
          ]
        },
        {
          "name": "stdout",
          "output_type": "stream",
          "text": [
            "[093/500] Train Acc: 0.94342 Loss: 0.09087 | Val Acc: 0.83288 loss: 0.42948\n",
            "saving model with acc 0.83288\n"
          ]
        },
        {
          "name": "stderr",
          "output_type": "stream",
          "text": [
            "100%|██████████| 51/51 [00:34<00:00,  1.47it/s]\n",
            "100%|██████████| 3/3 [00:00<00:00,  4.33it/s]\n"
          ]
        },
        {
          "name": "stdout",
          "output_type": "stream",
          "text": [
            "[094/500] Train Acc: 0.94356 Loss: 0.09084 | Val Acc: 0.83130 loss: 0.43394\n"
          ]
        },
        {
          "name": "stderr",
          "output_type": "stream",
          "text": [
            "100%|██████████| 51/51 [00:34<00:00,  1.46it/s]\n",
            "100%|██████████| 3/3 [00:00<00:00,  4.25it/s]\n"
          ]
        },
        {
          "name": "stdout",
          "output_type": "stream",
          "text": [
            "[095/500] Train Acc: 0.94301 Loss: 0.09182 | Val Acc: 0.83050 loss: 0.44419\n"
          ]
        },
        {
          "name": "stderr",
          "output_type": "stream",
          "text": [
            "100%|██████████| 51/51 [00:34<00:00,  1.47it/s]\n",
            "100%|██████████| 3/3 [00:00<00:00,  4.26it/s]\n"
          ]
        },
        {
          "name": "stdout",
          "output_type": "stream",
          "text": [
            "[096/500] Train Acc: 0.94197 Loss: 0.09322 | Val Acc: 0.83076 loss: 0.44036\n"
          ]
        },
        {
          "name": "stderr",
          "output_type": "stream",
          "text": [
            "100%|██████████| 51/51 [00:34<00:00,  1.46it/s]\n",
            "100%|██████████| 3/3 [00:00<00:00,  4.37it/s]\n"
          ]
        },
        {
          "name": "stdout",
          "output_type": "stream",
          "text": [
            "[097/500] Train Acc: 0.93990 Loss: 0.09654 | Val Acc: 0.82782 loss: 0.45034\n"
          ]
        },
        {
          "name": "stderr",
          "output_type": "stream",
          "text": [
            "100%|██████████| 51/51 [00:34<00:00,  1.47it/s]\n",
            "100%|██████████| 3/3 [00:00<00:00,  4.61it/s]\n"
          ]
        },
        {
          "name": "stdout",
          "output_type": "stream",
          "text": [
            "[098/500] Train Acc: 0.93597 Loss: 0.10344 | Val Acc: 0.82431 loss: 0.45581\n"
          ]
        },
        {
          "name": "stderr",
          "output_type": "stream",
          "text": [
            "100%|██████████| 51/51 [00:34<00:00,  1.48it/s]\n",
            "100%|██████████| 3/3 [00:00<00:00,  4.36it/s]\n"
          ]
        },
        {
          "name": "stdout",
          "output_type": "stream",
          "text": [
            "[099/500] Train Acc: 0.93138 Loss: 0.11168 | Val Acc: 0.82215 loss: 0.45382\n"
          ]
        },
        {
          "name": "stderr",
          "output_type": "stream",
          "text": [
            "100%|██████████| 51/51 [00:34<00:00,  1.48it/s]\n",
            "100%|██████████| 3/3 [00:00<00:00,  4.22it/s]\n"
          ]
        },
        {
          "name": "stdout",
          "output_type": "stream",
          "text": [
            "[100/500] Train Acc: 0.92428 Loss: 0.12403 | Val Acc: 0.81435 loss: 0.46923\n"
          ]
        },
        {
          "name": "stderr",
          "output_type": "stream",
          "text": [
            "100%|██████████| 51/51 [00:34<00:00,  1.47it/s]\n",
            "100%|██████████| 3/3 [00:00<00:00,  4.15it/s]\n"
          ]
        },
        {
          "name": "stdout",
          "output_type": "stream",
          "text": [
            "[101/500] Train Acc: 0.91449 Loss: 0.14234 | Val Acc: 0.81373 loss: 0.46617\n"
          ]
        },
        {
          "name": "stderr",
          "output_type": "stream",
          "text": [
            "100%|██████████| 51/51 [00:34<00:00,  1.48it/s]\n",
            "100%|██████████| 3/3 [00:00<00:00,  3.94it/s]\n"
          ]
        },
        {
          "name": "stdout",
          "output_type": "stream",
          "text": [
            "[102/500] Train Acc: 0.91615 Loss: 0.13891 | Val Acc: 0.81713 loss: 0.46242\n"
          ]
        },
        {
          "name": "stderr",
          "output_type": "stream",
          "text": [
            "100%|██████████| 51/51 [00:34<00:00,  1.47it/s]\n",
            "100%|██████████| 3/3 [00:00<00:00,  4.38it/s]\n"
          ]
        },
        {
          "name": "stdout",
          "output_type": "stream",
          "text": [
            "[103/500] Train Acc: 0.92332 Loss: 0.12539 | Val Acc: 0.82345 loss: 0.43935\n"
          ]
        },
        {
          "name": "stderr",
          "output_type": "stream",
          "text": [
            "100%|██████████| 51/51 [00:34<00:00,  1.47it/s]\n",
            "100%|██████████| 3/3 [00:00<00:00,  4.45it/s]\n"
          ]
        },
        {
          "name": "stdout",
          "output_type": "stream",
          "text": [
            "[104/500] Train Acc: 0.93116 Loss: 0.11216 | Val Acc: 0.82517 loss: 0.44652\n"
          ]
        },
        {
          "name": "stderr",
          "output_type": "stream",
          "text": [
            "100%|██████████| 51/51 [00:34<00:00,  1.47it/s]\n",
            "100%|██████████| 3/3 [00:00<00:00,  4.36it/s]\n"
          ]
        },
        {
          "name": "stdout",
          "output_type": "stream",
          "text": [
            "[105/500] Train Acc: 0.93662 Loss: 0.10249 | Val Acc: 0.82723 loss: 0.44812\n"
          ]
        },
        {
          "name": "stderr",
          "output_type": "stream",
          "text": [
            "100%|██████████| 51/51 [00:34<00:00,  1.48it/s]\n",
            "100%|██████████| 3/3 [00:00<00:00,  4.36it/s]\n"
          ]
        },
        {
          "name": "stdout",
          "output_type": "stream",
          "text": [
            "[106/500] Train Acc: 0.94094 Loss: 0.09498 | Val Acc: 0.83120 loss: 0.44753\n"
          ]
        },
        {
          "name": "stderr",
          "output_type": "stream",
          "text": [
            "100%|██████████| 51/51 [00:34<00:00,  1.47it/s]\n",
            "100%|██████████| 3/3 [00:00<00:00,  4.23it/s]\n"
          ]
        },
        {
          "name": "stdout",
          "output_type": "stream",
          "text": [
            "[107/500] Train Acc: 0.94401 Loss: 0.08938 | Val Acc: 0.83317 loss: 0.43940\n",
            "saving model with acc 0.83317\n"
          ]
        },
        {
          "name": "stderr",
          "output_type": "stream",
          "text": [
            "100%|██████████| 51/51 [00:34<00:00,  1.47it/s]\n",
            "100%|██████████| 3/3 [00:00<00:00,  4.30it/s]\n"
          ]
        },
        {
          "name": "stdout",
          "output_type": "stream",
          "text": [
            "[108/500] Train Acc: 0.94620 Loss: 0.08580 | Val Acc: 0.83256 loss: 0.44555\n"
          ]
        },
        {
          "name": "stderr",
          "output_type": "stream",
          "text": [
            "100%|██████████| 51/51 [00:34<00:00,  1.46it/s]\n",
            "100%|██████████| 3/3 [00:00<00:00,  4.26it/s]\n"
          ]
        },
        {
          "name": "stdout",
          "output_type": "stream",
          "text": [
            "[109/500] Train Acc: 0.94758 Loss: 0.08316 | Val Acc: 0.83364 loss: 0.44360\n",
            "saving model with acc 0.83364\n"
          ]
        },
        {
          "name": "stderr",
          "output_type": "stream",
          "text": [
            "100%|██████████| 51/51 [00:34<00:00,  1.46it/s]\n",
            "100%|██████████| 3/3 [00:00<00:00,  4.33it/s]\n"
          ]
        },
        {
          "name": "stdout",
          "output_type": "stream",
          "text": [
            "[110/500] Train Acc: 0.94844 Loss: 0.08207 | Val Acc: 0.83351 loss: 0.44320\n"
          ]
        },
        {
          "name": "stderr",
          "output_type": "stream",
          "text": [
            "100%|██████████| 51/51 [00:34<00:00,  1.47it/s]\n",
            "100%|██████████| 3/3 [00:00<00:00,  4.26it/s]\n"
          ]
        },
        {
          "name": "stdout",
          "output_type": "stream",
          "text": [
            "[111/500] Train Acc: 0.94874 Loss: 0.08144 | Val Acc: 0.83376 loss: 0.44245\n",
            "saving model with acc 0.83376\n"
          ]
        },
        {
          "name": "stderr",
          "output_type": "stream",
          "text": [
            "100%|██████████| 51/51 [00:34<00:00,  1.46it/s]\n",
            "100%|██████████| 3/3 [00:00<00:00,  4.12it/s]\n"
          ]
        },
        {
          "name": "stdout",
          "output_type": "stream",
          "text": [
            "[112/500] Train Acc: 0.94877 Loss: 0.08131 | Val Acc: 0.83393 loss: 0.44224\n",
            "saving model with acc 0.83393\n"
          ]
        },
        {
          "name": "stderr",
          "output_type": "stream",
          "text": [
            "100%|██████████| 51/51 [00:34<00:00,  1.46it/s]\n",
            "100%|██████████| 3/3 [00:00<00:00,  4.32it/s]\n"
          ]
        },
        {
          "name": "stdout",
          "output_type": "stream",
          "text": [
            "[113/500] Train Acc: 0.94869 Loss: 0.08119 | Val Acc: 0.83422 loss: 0.44298\n",
            "saving model with acc 0.83422\n"
          ]
        },
        {
          "name": "stderr",
          "output_type": "stream",
          "text": [
            "100%|██████████| 51/51 [00:34<00:00,  1.46it/s]\n",
            "100%|██████████| 3/3 [00:00<00:00,  4.40it/s]\n"
          ]
        },
        {
          "name": "stdout",
          "output_type": "stream",
          "text": [
            "[114/500] Train Acc: 0.94873 Loss: 0.08135 | Val Acc: 0.83366 loss: 0.44413\n"
          ]
        },
        {
          "name": "stderr",
          "output_type": "stream",
          "text": [
            "100%|██████████| 51/51 [00:34<00:00,  1.46it/s]\n",
            "100%|██████████| 3/3 [00:00<00:00,  4.22it/s]\n"
          ]
        },
        {
          "name": "stdout",
          "output_type": "stream",
          "text": [
            "[115/500] Train Acc: 0.94802 Loss: 0.08220 | Val Acc: 0.83281 loss: 0.45180\n"
          ]
        },
        {
          "name": "stderr",
          "output_type": "stream",
          "text": [
            "100%|██████████| 51/51 [00:34<00:00,  1.47it/s]\n",
            "100%|██████████| 3/3 [00:00<00:00,  4.31it/s]\n"
          ]
        },
        {
          "name": "stdout",
          "output_type": "stream",
          "text": [
            "[116/500] Train Acc: 0.94716 Loss: 0.08348 | Val Acc: 0.83160 loss: 0.45374\n"
          ]
        },
        {
          "name": "stderr",
          "output_type": "stream",
          "text": [
            "100%|██████████| 51/51 [00:34<00:00,  1.46it/s]\n",
            "100%|██████████| 3/3 [00:00<00:00,  4.36it/s]\n"
          ]
        },
        {
          "name": "stdout",
          "output_type": "stream",
          "text": [
            "[117/500] Train Acc: 0.94520 Loss: 0.08678 | Val Acc: 0.83228 loss: 0.45392\n"
          ]
        },
        {
          "name": "stderr",
          "output_type": "stream",
          "text": [
            "100%|██████████| 51/51 [00:36<00:00,  1.41it/s]\n",
            "100%|██████████| 3/3 [00:00<00:00,  3.47it/s]\n"
          ]
        },
        {
          "name": "stdout",
          "output_type": "stream",
          "text": [
            "[118/500] Train Acc: 0.94354 Loss: 0.08980 | Val Acc: 0.82541 loss: 0.46961\n"
          ]
        },
        {
          "name": "stderr",
          "output_type": "stream",
          "text": [
            "100%|██████████| 51/51 [00:38<00:00,  1.33it/s]\n",
            "100%|██████████| 3/3 [00:00<00:00,  3.82it/s]\n"
          ]
        },
        {
          "name": "stdout",
          "output_type": "stream",
          "text": [
            "[119/500] Train Acc: 0.93922 Loss: 0.09727 | Val Acc: 0.82601 loss: 0.46887\n"
          ]
        },
        {
          "name": "stderr",
          "output_type": "stream",
          "text": [
            "100%|██████████| 51/51 [00:38<00:00,  1.33it/s]\n",
            "100%|██████████| 3/3 [00:00<00:00,  3.65it/s]\n"
          ]
        },
        {
          "name": "stdout",
          "output_type": "stream",
          "text": [
            "[120/500] Train Acc: 0.93354 Loss: 0.10783 | Val Acc: 0.82043 loss: 0.47601\n"
          ]
        },
        {
          "name": "stderr",
          "output_type": "stream",
          "text": [
            "100%|██████████| 51/51 [00:39<00:00,  1.30it/s]\n",
            "100%|██████████| 3/3 [00:00<00:00,  3.43it/s]\n"
          ]
        },
        {
          "name": "stdout",
          "output_type": "stream",
          "text": [
            "[121/500] Train Acc: 0.92675 Loss: 0.11996 | Val Acc: 0.81642 loss: 0.47131\n"
          ]
        },
        {
          "name": "stderr",
          "output_type": "stream",
          "text": [
            "100%|██████████| 51/51 [00:38<00:00,  1.31it/s]\n",
            "100%|██████████| 3/3 [00:00<00:00,  3.91it/s]\n"
          ]
        },
        {
          "name": "stdout",
          "output_type": "stream",
          "text": [
            "[122/500] Train Acc: 0.92282 Loss: 0.12657 | Val Acc: 0.81837 loss: 0.47011\n"
          ]
        },
        {
          "name": "stderr",
          "output_type": "stream",
          "text": [
            "100%|██████████| 51/51 [00:38<00:00,  1.32it/s]\n",
            "100%|██████████| 3/3 [00:00<00:00,  3.45it/s]\n"
          ]
        },
        {
          "name": "stdout",
          "output_type": "stream",
          "text": [
            "[123/500] Train Acc: 0.92669 Loss: 0.11985 | Val Acc: 0.82143 loss: 0.46323\n"
          ]
        },
        {
          "name": "stderr",
          "output_type": "stream",
          "text": [
            "100%|██████████| 51/51 [00:39<00:00,  1.30it/s]\n",
            "100%|██████████| 3/3 [00:00<00:00,  3.57it/s]\n"
          ]
        },
        {
          "name": "stdout",
          "output_type": "stream",
          "text": [
            "[124/500] Train Acc: 0.93360 Loss: 0.10713 | Val Acc: 0.82476 loss: 0.46132\n"
          ]
        },
        {
          "name": "stderr",
          "output_type": "stream",
          "text": [
            "100%|██████████| 51/51 [00:38<00:00,  1.32it/s]\n",
            "100%|██████████| 3/3 [00:00<00:00,  3.68it/s]\n"
          ]
        },
        {
          "name": "stdout",
          "output_type": "stream",
          "text": [
            "[125/500] Train Acc: 0.93973 Loss: 0.09643 | Val Acc: 0.83000 loss: 0.45733\n"
          ]
        },
        {
          "name": "stderr",
          "output_type": "stream",
          "text": [
            "100%|██████████| 51/51 [00:38<00:00,  1.34it/s]\n",
            "100%|██████████| 3/3 [00:00<00:00,  3.95it/s]\n"
          ]
        },
        {
          "name": "stdout",
          "output_type": "stream",
          "text": [
            "[126/500] Train Acc: 0.94399 Loss: 0.08921 | Val Acc: 0.83135 loss: 0.46144\n"
          ]
        },
        {
          "name": "stderr",
          "output_type": "stream",
          "text": [
            "100%|██████████| 51/51 [00:38<00:00,  1.34it/s]\n",
            "100%|██████████| 3/3 [00:00<00:00,  3.46it/s]\n"
          ]
        },
        {
          "name": "stdout",
          "output_type": "stream",
          "text": [
            "[127/500] Train Acc: 0.94736 Loss: 0.08298 | Val Acc: 0.83075 loss: 0.46003\n"
          ]
        },
        {
          "name": "stderr",
          "output_type": "stream",
          "text": [
            "100%|██████████| 51/51 [00:38<00:00,  1.34it/s]\n",
            "100%|██████████| 3/3 [00:00<00:00,  3.54it/s]\n"
          ]
        },
        {
          "name": "stdout",
          "output_type": "stream",
          "text": [
            "[128/500] Train Acc: 0.94960 Loss: 0.07955 | Val Acc: 0.83197 loss: 0.45897\n"
          ]
        },
        {
          "name": "stderr",
          "output_type": "stream",
          "text": [
            "100%|██████████| 51/51 [00:38<00:00,  1.33it/s]\n",
            "100%|██████████| 3/3 [00:00<00:00,  3.48it/s]\n"
          ]
        },
        {
          "name": "stdout",
          "output_type": "stream",
          "text": [
            "[129/500] Train Acc: 0.95111 Loss: 0.07699 | Val Acc: 0.83244 loss: 0.45885\n"
          ]
        },
        {
          "name": "stderr",
          "output_type": "stream",
          "text": [
            "100%|██████████| 51/51 [00:37<00:00,  1.35it/s]\n",
            "100%|██████████| 3/3 [00:00<00:00,  3.77it/s]\n"
          ]
        },
        {
          "name": "stdout",
          "output_type": "stream",
          "text": [
            "[130/500] Train Acc: 0.95182 Loss: 0.07560 | Val Acc: 0.83168 loss: 0.46049\n"
          ]
        },
        {
          "name": "stderr",
          "output_type": "stream",
          "text": [
            "100%|██████████| 51/51 [00:37<00:00,  1.34it/s]\n",
            "100%|██████████| 3/3 [00:00<00:00,  4.28it/s]\n"
          ]
        },
        {
          "name": "stdout",
          "output_type": "stream",
          "text": [
            "[131/500] Train Acc: 0.95187 Loss: 0.07566 | Val Acc: 0.83213 loss: 0.46049\n"
          ]
        },
        {
          "name": "stderr",
          "output_type": "stream",
          "text": [
            "100%|██████████| 51/51 [00:38<00:00,  1.34it/s]\n",
            "100%|██████████| 3/3 [00:00<00:00,  4.32it/s]\n"
          ]
        },
        {
          "name": "stdout",
          "output_type": "stream",
          "text": [
            "[132/500] Train Acc: 0.95201 Loss: 0.07528 | Val Acc: 0.83238 loss: 0.46051\n"
          ]
        },
        {
          "name": "stderr",
          "output_type": "stream",
          "text": [
            "100%|██████████| 51/51 [00:38<00:00,  1.34it/s]\n",
            "100%|██████████| 3/3 [00:00<00:00,  3.69it/s]\n"
          ]
        },
        {
          "name": "stdout",
          "output_type": "stream",
          "text": [
            "[133/500] Train Acc: 0.95248 Loss: 0.07481 | Val Acc: 0.83236 loss: 0.46216\n"
          ]
        },
        {
          "name": "stderr",
          "output_type": "stream",
          "text": [
            "100%|██████████| 51/51 [00:37<00:00,  1.35it/s]\n",
            "100%|██████████| 3/3 [00:00<00:00,  3.99it/s]\n"
          ]
        },
        {
          "name": "stdout",
          "output_type": "stream",
          "text": [
            "[134/500] Train Acc: 0.95183 Loss: 0.07540 | Val Acc: 0.83262 loss: 0.46321\n"
          ]
        },
        {
          "name": "stderr",
          "output_type": "stream",
          "text": [
            "100%|██████████| 51/51 [00:35<00:00,  1.45it/s]\n",
            "100%|██████████| 3/3 [00:00<00:00,  4.16it/s]\n"
          ]
        },
        {
          "name": "stdout",
          "output_type": "stream",
          "text": [
            "[135/500] Train Acc: 0.95122 Loss: 0.07629 | Val Acc: 0.83299 loss: 0.46737\n"
          ]
        },
        {
          "name": "stderr",
          "output_type": "stream",
          "text": [
            "100%|██████████| 51/51 [00:34<00:00,  1.46it/s]\n",
            "100%|██████████| 3/3 [00:00<00:00,  4.23it/s]\n"
          ]
        },
        {
          "name": "stdout",
          "output_type": "stream",
          "text": [
            "[136/500] Train Acc: 0.95091 Loss: 0.07709 | Val Acc: 0.83112 loss: 0.47678\n"
          ]
        },
        {
          "name": "stderr",
          "output_type": "stream",
          "text": [
            "100%|██████████| 51/51 [00:35<00:00,  1.45it/s]\n",
            "100%|██████████| 3/3 [00:00<00:00,  4.13it/s]\n"
          ]
        },
        {
          "name": "stdout",
          "output_type": "stream",
          "text": [
            "[137/500] Train Acc: 0.94929 Loss: 0.07968 | Val Acc: 0.83012 loss: 0.48334\n"
          ]
        },
        {
          "name": "stderr",
          "output_type": "stream",
          "text": [
            "100%|██████████| 51/51 [00:35<00:00,  1.45it/s]\n",
            "100%|██████████| 3/3 [00:00<00:00,  4.26it/s]\n"
          ]
        },
        {
          "name": "stdout",
          "output_type": "stream",
          "text": [
            "[138/500] Train Acc: 0.94680 Loss: 0.08389 | Val Acc: 0.82958 loss: 0.48456\n"
          ]
        },
        {
          "name": "stderr",
          "output_type": "stream",
          "text": [
            "100%|██████████| 51/51 [00:34<00:00,  1.47it/s]\n",
            "100%|██████████| 3/3 [00:00<00:00,  4.16it/s]\n"
          ]
        },
        {
          "name": "stdout",
          "output_type": "stream",
          "text": [
            "[139/500] Train Acc: 0.94309 Loss: 0.09055 | Val Acc: 0.82282 loss: 0.48871\n"
          ]
        },
        {
          "name": "stderr",
          "output_type": "stream",
          "text": [
            "100%|██████████| 51/51 [00:34<00:00,  1.46it/s]\n",
            "100%|██████████| 3/3 [00:00<00:00,  4.26it/s]\n"
          ]
        },
        {
          "name": "stdout",
          "output_type": "stream",
          "text": [
            "[140/500] Train Acc: 0.93626 Loss: 0.10277 | Val Acc: 0.81903 loss: 0.48539\n"
          ]
        },
        {
          "name": "stderr",
          "output_type": "stream",
          "text": [
            "100%|██████████| 51/51 [00:35<00:00,  1.45it/s]\n",
            "100%|██████████| 3/3 [00:00<00:00,  4.25it/s]\n"
          ]
        },
        {
          "name": "stdout",
          "output_type": "stream",
          "text": [
            "[141/500] Train Acc: 0.93188 Loss: 0.11043 | Val Acc: 0.81869 loss: 0.48995\n"
          ]
        },
        {
          "name": "stderr",
          "output_type": "stream",
          "text": [
            "100%|██████████| 51/51 [00:34<00:00,  1.47it/s]\n",
            "100%|██████████| 3/3 [00:00<00:00,  4.19it/s]\n"
          ]
        },
        {
          "name": "stdout",
          "output_type": "stream",
          "text": [
            "[142/500] Train Acc: 0.92947 Loss: 0.11470 | Val Acc: 0.81954 loss: 0.47998\n"
          ]
        },
        {
          "name": "stderr",
          "output_type": "stream",
          "text": [
            "100%|██████████| 51/51 [00:35<00:00,  1.45it/s]\n",
            "100%|██████████| 3/3 [00:00<00:00,  4.19it/s]\n"
          ]
        },
        {
          "name": "stdout",
          "output_type": "stream",
          "text": [
            "[143/500] Train Acc: 0.93076 Loss: 0.11267 | Val Acc: 0.81744 loss: 0.48962\n"
          ]
        },
        {
          "name": "stderr",
          "output_type": "stream",
          "text": [
            "100%|██████████| 51/51 [00:35<00:00,  1.46it/s]\n",
            "100%|██████████| 3/3 [00:00<00:00,  4.28it/s]\n"
          ]
        },
        {
          "name": "stdout",
          "output_type": "stream",
          "text": [
            "[144/500] Train Acc: 0.93532 Loss: 0.10408 | Val Acc: 0.82336 loss: 0.47652\n"
          ]
        },
        {
          "name": "stderr",
          "output_type": "stream",
          "text": [
            "100%|██████████| 51/51 [00:34<00:00,  1.46it/s]\n",
            "100%|██████████| 3/3 [00:00<00:00,  3.98it/s]\n"
          ]
        },
        {
          "name": "stdout",
          "output_type": "stream",
          "text": [
            "[145/500] Train Acc: 0.94141 Loss: 0.09349 | Val Acc: 0.82726 loss: 0.47096\n"
          ]
        },
        {
          "name": "stderr",
          "output_type": "stream",
          "text": [
            "100%|██████████| 51/51 [00:35<00:00,  1.46it/s]\n",
            "100%|██████████| 3/3 [00:00<00:00,  4.27it/s]\n"
          ]
        },
        {
          "name": "stdout",
          "output_type": "stream",
          "text": [
            "[146/500] Train Acc: 0.94679 Loss: 0.08419 | Val Acc: 0.83030 loss: 0.47445\n"
          ]
        },
        {
          "name": "stderr",
          "output_type": "stream",
          "text": [
            "100%|██████████| 51/51 [00:36<00:00,  1.39it/s]\n",
            "100%|██████████| 3/3 [00:00<00:00,  3.67it/s]\n"
          ]
        },
        {
          "name": "stdout",
          "output_type": "stream",
          "text": [
            "[147/500] Train Acc: 0.94951 Loss: 0.07938 | Val Acc: 0.83053 loss: 0.47380\n"
          ]
        },
        {
          "name": "stderr",
          "output_type": "stream",
          "text": [
            "100%|██████████| 51/51 [00:38<00:00,  1.32it/s]\n",
            "100%|██████████| 3/3 [00:00<00:00,  4.13it/s]\n"
          ]
        },
        {
          "name": "stdout",
          "output_type": "stream",
          "text": [
            "[148/500] Train Acc: 0.95182 Loss: 0.07553 | Val Acc: 0.83207 loss: 0.47637\n"
          ]
        },
        {
          "name": "stderr",
          "output_type": "stream",
          "text": [
            "100%|██████████| 51/51 [00:38<00:00,  1.31it/s]\n",
            "100%|██████████| 3/3 [00:00<00:00,  3.62it/s]\n"
          ]
        },
        {
          "name": "stdout",
          "output_type": "stream",
          "text": [
            "[149/500] Train Acc: 0.95326 Loss: 0.07292 | Val Acc: 0.83260 loss: 0.47201\n"
          ]
        },
        {
          "name": "stderr",
          "output_type": "stream",
          "text": [
            "100%|██████████| 51/51 [00:38<00:00,  1.34it/s]\n",
            "100%|██████████| 3/3 [00:00<00:00,  4.22it/s]\n"
          ]
        },
        {
          "name": "stdout",
          "output_type": "stream",
          "text": [
            "[150/500] Train Acc: 0.95370 Loss: 0.07215 | Val Acc: 0.83273 loss: 0.47244\n"
          ]
        },
        {
          "name": "stderr",
          "output_type": "stream",
          "text": [
            "100%|██████████| 51/51 [00:38<00:00,  1.33it/s]\n",
            "100%|██████████| 3/3 [00:00<00:00,  3.92it/s]\n"
          ]
        },
        {
          "name": "stdout",
          "output_type": "stream",
          "text": [
            "[151/500] Train Acc: 0.95397 Loss: 0.07175 | Val Acc: 0.83265 loss: 0.47252\n"
          ]
        },
        {
          "name": "stderr",
          "output_type": "stream",
          "text": [
            "100%|██████████| 51/51 [00:37<00:00,  1.36it/s]\n",
            "100%|██████████| 3/3 [00:00<00:00,  3.82it/s]\n"
          ]
        },
        {
          "name": "stdout",
          "output_type": "stream",
          "text": [
            "[152/500] Train Acc: 0.95416 Loss: 0.07139 | Val Acc: 0.83273 loss: 0.47375\n"
          ]
        },
        {
          "name": "stderr",
          "output_type": "stream",
          "text": [
            "100%|██████████| 51/51 [00:38<00:00,  1.33it/s]\n",
            "100%|██████████| 3/3 [00:00<00:00,  4.64it/s]\n"
          ]
        },
        {
          "name": "stdout",
          "output_type": "stream",
          "text": [
            "[153/500] Train Acc: 0.95417 Loss: 0.07142 | Val Acc: 0.83320 loss: 0.47395\n"
          ]
        },
        {
          "name": "stderr",
          "output_type": "stream",
          "text": [
            "100%|██████████| 51/51 [00:38<00:00,  1.34it/s]\n",
            "100%|██████████| 3/3 [00:00<00:00,  3.67it/s]\n"
          ]
        },
        {
          "name": "stdout",
          "output_type": "stream",
          "text": [
            "[154/500] Train Acc: 0.95429 Loss: 0.07099 | Val Acc: 0.83284 loss: 0.47546\n"
          ]
        },
        {
          "name": "stderr",
          "output_type": "stream",
          "text": [
            "100%|██████████| 51/51 [00:38<00:00,  1.33it/s]\n",
            "100%|██████████| 3/3 [00:00<00:00,  3.51it/s]\n"
          ]
        },
        {
          "name": "stdout",
          "output_type": "stream",
          "text": [
            "[155/500] Train Acc: 0.95430 Loss: 0.07108 | Val Acc: 0.83326 loss: 0.48099\n"
          ]
        },
        {
          "name": "stderr",
          "output_type": "stream",
          "text": [
            "100%|██████████| 51/51 [00:38<00:00,  1.34it/s]\n",
            "100%|██████████| 3/3 [00:00<00:00,  3.78it/s]\n"
          ]
        },
        {
          "name": "stdout",
          "output_type": "stream",
          "text": [
            "[156/500] Train Acc: 0.95357 Loss: 0.07247 | Val Acc: 0.83235 loss: 0.48483\n"
          ]
        },
        {
          "name": "stderr",
          "output_type": "stream",
          "text": [
            "100%|██████████| 51/51 [00:38<00:00,  1.33it/s]\n",
            "100%|██████████| 3/3 [00:00<00:00,  4.09it/s]\n"
          ]
        },
        {
          "name": "stdout",
          "output_type": "stream",
          "text": [
            "[157/500] Train Acc: 0.95195 Loss: 0.07476 | Val Acc: 0.83043 loss: 0.49321\n"
          ]
        },
        {
          "name": "stderr",
          "output_type": "stream",
          "text": [
            "100%|██████████| 51/51 [00:38<00:00,  1.32it/s]\n",
            "100%|██████████| 3/3 [00:00<00:00,  4.36it/s]\n"
          ]
        },
        {
          "name": "stdout",
          "output_type": "stream",
          "text": [
            "[158/500] Train Acc: 0.94916 Loss: 0.07973 | Val Acc: 0.82630 loss: 0.49888\n"
          ]
        },
        {
          "name": "stderr",
          "output_type": "stream",
          "text": [
            "100%|██████████| 51/51 [00:38<00:00,  1.31it/s]\n",
            "100%|██████████| 3/3 [00:00<00:00,  3.58it/s]\n"
          ]
        },
        {
          "name": "stdout",
          "output_type": "stream",
          "text": [
            "[159/500] Train Acc: 0.94564 Loss: 0.08599 | Val Acc: 0.82677 loss: 0.49411\n"
          ]
        },
        {
          "name": "stderr",
          "output_type": "stream",
          "text": [
            "100%|██████████| 51/51 [00:38<00:00,  1.33it/s]\n",
            "100%|██████████| 3/3 [00:00<00:00,  4.12it/s]\n"
          ]
        },
        {
          "name": "stdout",
          "output_type": "stream",
          "text": [
            "[160/500] Train Acc: 0.94063 Loss: 0.09492 | Val Acc: 0.82105 loss: 0.50505\n"
          ]
        },
        {
          "name": "stderr",
          "output_type": "stream",
          "text": [
            "100%|██████████| 51/51 [00:38<00:00,  1.32it/s]\n",
            "100%|██████████| 3/3 [00:00<00:00,  4.43it/s]\n"
          ]
        },
        {
          "name": "stdout",
          "output_type": "stream",
          "text": [
            "[161/500] Train Acc: 0.92907 Loss: 0.11617 | Val Acc: 0.81045 loss: 0.50508\n"
          ]
        },
        {
          "name": "stderr",
          "output_type": "stream",
          "text": [
            "100%|██████████| 51/51 [00:38<00:00,  1.33it/s]\n",
            "100%|██████████| 3/3 [00:00<00:00,  3.60it/s]\n"
          ]
        },
        {
          "name": "stdout",
          "output_type": "stream",
          "text": [
            "[162/500] Train Acc: 0.92551 Loss: 0.12248 | Val Acc: 0.81773 loss: 0.48789\n"
          ]
        },
        {
          "name": "stderr",
          "output_type": "stream",
          "text": [
            "100%|██████████| 51/51 [00:39<00:00,  1.30it/s]\n",
            "100%|██████████| 3/3 [00:00<00:00,  4.21it/s]\n"
          ]
        },
        {
          "name": "stdout",
          "output_type": "stream",
          "text": [
            "[163/500] Train Acc: 0.92722 Loss: 0.11856 | Val Acc: 0.81750 loss: 0.47961\n"
          ]
        },
        {
          "name": "stderr",
          "output_type": "stream",
          "text": [
            "100%|██████████| 51/51 [00:38<00:00,  1.32it/s]\n",
            "100%|██████████| 3/3 [00:00<00:00,  3.86it/s]\n"
          ]
        },
        {
          "name": "stdout",
          "output_type": "stream",
          "text": [
            "[164/500] Train Acc: 0.93411 Loss: 0.10612 | Val Acc: 0.82367 loss: 0.48140\n"
          ]
        },
        {
          "name": "stderr",
          "output_type": "stream",
          "text": [
            "100%|██████████| 51/51 [00:38<00:00,  1.32it/s]\n",
            "100%|██████████| 3/3 [00:00<00:00,  3.37it/s]\n"
          ]
        },
        {
          "name": "stdout",
          "output_type": "stream",
          "text": [
            "[165/500] Train Acc: 0.94071 Loss: 0.09477 | Val Acc: 0.82317 loss: 0.48055\n"
          ]
        },
        {
          "name": "stderr",
          "output_type": "stream",
          "text": [
            "100%|██████████| 51/51 [00:38<00:00,  1.33it/s]\n",
            "100%|██████████| 3/3 [00:00<00:00,  3.46it/s]\n"
          ]
        },
        {
          "name": "stdout",
          "output_type": "stream",
          "text": [
            "[166/500] Train Acc: 0.94569 Loss: 0.08580 | Val Acc: 0.82851 loss: 0.47732\n"
          ]
        },
        {
          "name": "stderr",
          "output_type": "stream",
          "text": [
            "100%|██████████| 51/51 [00:38<00:00,  1.33it/s]\n",
            "100%|██████████| 3/3 [00:00<00:00,  3.56it/s]\n"
          ]
        },
        {
          "name": "stdout",
          "output_type": "stream",
          "text": [
            "[167/500] Train Acc: 0.94930 Loss: 0.07973 | Val Acc: 0.83036 loss: 0.47148\n"
          ]
        },
        {
          "name": "stderr",
          "output_type": "stream",
          "text": [
            "100%|██████████| 51/51 [00:37<00:00,  1.38it/s]\n",
            "100%|██████████| 3/3 [00:00<00:00,  4.24it/s]\n"
          ]
        },
        {
          "name": "stdout",
          "output_type": "stream",
          "text": [
            "[168/500] Train Acc: 0.95176 Loss: 0.07526 | Val Acc: 0.83088 loss: 0.47506\n"
          ]
        },
        {
          "name": "stderr",
          "output_type": "stream",
          "text": [
            "100%|██████████| 51/51 [00:35<00:00,  1.45it/s]\n",
            "100%|██████████| 3/3 [00:00<00:00,  4.40it/s]\n"
          ]
        },
        {
          "name": "stdout",
          "output_type": "stream",
          "text": [
            "[169/500] Train Acc: 0.95305 Loss: 0.07337 | Val Acc: 0.83177 loss: 0.47392\n"
          ]
        },
        {
          "name": "stderr",
          "output_type": "stream",
          "text": [
            "100%|██████████| 51/51 [00:35<00:00,  1.45it/s]\n",
            "100%|██████████| 3/3 [00:00<00:00,  4.27it/s]\n"
          ]
        },
        {
          "name": "stdout",
          "output_type": "stream",
          "text": [
            "[170/500] Train Acc: 0.95389 Loss: 0.07182 | Val Acc: 0.83208 loss: 0.47230\n"
          ]
        },
        {
          "name": "stderr",
          "output_type": "stream",
          "text": [
            "100%|██████████| 51/51 [00:34<00:00,  1.46it/s]\n",
            "100%|██████████| 3/3 [00:00<00:00,  4.21it/s]\n"
          ]
        },
        {
          "name": "stdout",
          "output_type": "stream",
          "text": [
            "[171/500] Train Acc: 0.95370 Loss: 0.07204 | Val Acc: 0.83198 loss: 0.47259\n"
          ]
        },
        {
          "name": "stderr",
          "output_type": "stream",
          "text": [
            "100%|██████████| 51/51 [00:35<00:00,  1.46it/s]\n",
            "100%|██████████| 3/3 [00:00<00:00,  4.01it/s]\n"
          ]
        },
        {
          "name": "stdout",
          "output_type": "stream",
          "text": [
            "[172/500] Train Acc: 0.95403 Loss: 0.07172 | Val Acc: 0.83199 loss: 0.47295\n"
          ]
        },
        {
          "name": "stderr",
          "output_type": "stream",
          "text": [
            "100%|██████████| 51/51 [00:34<00:00,  1.47it/s]\n",
            "100%|██████████| 3/3 [00:00<00:00,  4.05it/s]\n"
          ]
        },
        {
          "name": "stdout",
          "output_type": "stream",
          "text": [
            "[173/500] Train Acc: 0.95394 Loss: 0.07159 | Val Acc: 0.83196 loss: 0.47368\n"
          ]
        },
        {
          "name": "stderr",
          "output_type": "stream",
          "text": [
            "100%|██████████| 51/51 [00:34<00:00,  1.48it/s]\n",
            "100%|██████████| 3/3 [00:00<00:00,  4.20it/s]\n"
          ]
        },
        {
          "name": "stdout",
          "output_type": "stream",
          "text": [
            "[174/500] Train Acc: 0.95420 Loss: 0.07126 | Val Acc: 0.83190 loss: 0.48066\n"
          ]
        },
        {
          "name": "stderr",
          "output_type": "stream",
          "text": [
            "100%|██████████| 51/51 [00:34<00:00,  1.48it/s]\n",
            "100%|██████████| 3/3 [00:00<00:00,  4.27it/s]\n"
          ]
        },
        {
          "name": "stdout",
          "output_type": "stream",
          "text": [
            "[175/500] Train Acc: 0.95416 Loss: 0.07121 | Val Acc: 0.83263 loss: 0.48221\n"
          ]
        },
        {
          "name": "stderr",
          "output_type": "stream",
          "text": [
            "100%|██████████| 51/51 [00:34<00:00,  1.48it/s]\n",
            "100%|██████████| 3/3 [00:00<00:00,  3.97it/s]\n"
          ]
        },
        {
          "name": "stdout",
          "output_type": "stream",
          "text": [
            "[176/500] Train Acc: 0.95383 Loss: 0.07195 | Val Acc: 0.83160 loss: 0.48786\n"
          ]
        },
        {
          "name": "stderr",
          "output_type": "stream",
          "text": [
            "100%|██████████| 51/51 [00:35<00:00,  1.43it/s]\n",
            "100%|██████████| 3/3 [00:00<00:00,  4.19it/s]\n"
          ]
        },
        {
          "name": "stdout",
          "output_type": "stream",
          "text": [
            "[177/500] Train Acc: 0.95297 Loss: 0.07309 | Val Acc: 0.83083 loss: 0.49278\n"
          ]
        },
        {
          "name": "stderr",
          "output_type": "stream",
          "text": [
            "100%|██████████| 51/51 [00:34<00:00,  1.48it/s]\n",
            "100%|██████████| 3/3 [00:00<00:00,  4.28it/s]\n"
          ]
        },
        {
          "name": "stdout",
          "output_type": "stream",
          "text": [
            "[178/500] Train Acc: 0.95088 Loss: 0.07690 | Val Acc: 0.82842 loss: 0.49953\n"
          ]
        },
        {
          "name": "stderr",
          "output_type": "stream",
          "text": [
            "100%|██████████| 51/51 [00:34<00:00,  1.47it/s]\n",
            "100%|██████████| 3/3 [00:00<00:00,  4.07it/s]\n"
          ]
        },
        {
          "name": "stdout",
          "output_type": "stream",
          "text": [
            "[179/500] Train Acc: 0.94794 Loss: 0.08169 | Val Acc: 0.82648 loss: 0.50793\n"
          ]
        },
        {
          "name": "stderr",
          "output_type": "stream",
          "text": [
            "100%|██████████| 51/51 [00:34<00:00,  1.46it/s]\n",
            "100%|██████████| 3/3 [00:00<00:00,  4.26it/s]\n"
          ]
        },
        {
          "name": "stdout",
          "output_type": "stream",
          "text": [
            "[180/500] Train Acc: 0.94443 Loss: 0.08807 | Val Acc: 0.82548 loss: 0.49265\n"
          ]
        },
        {
          "name": "stderr",
          "output_type": "stream",
          "text": [
            "100%|██████████| 51/51 [00:34<00:00,  1.47it/s]\n",
            "100%|██████████| 3/3 [00:00<00:00,  4.26it/s]\n"
          ]
        },
        {
          "name": "stdout",
          "output_type": "stream",
          "text": [
            "[181/500] Train Acc: 0.93763 Loss: 0.10032 | Val Acc: 0.82291 loss: 0.48831\n"
          ]
        },
        {
          "name": "stderr",
          "output_type": "stream",
          "text": [
            "100%|██████████| 51/51 [00:34<00:00,  1.47it/s]\n",
            "100%|██████████| 3/3 [00:00<00:00,  4.37it/s]\n"
          ]
        },
        {
          "name": "stdout",
          "output_type": "stream",
          "text": [
            "[182/500] Train Acc: 0.93355 Loss: 0.10763 | Val Acc: 0.81865 loss: 0.49556\n"
          ]
        },
        {
          "name": "stderr",
          "output_type": "stream",
          "text": [
            "100%|██████████| 51/51 [00:34<00:00,  1.47it/s]\n",
            "100%|██████████| 3/3 [00:00<00:00,  4.50it/s]\n"
          ]
        },
        {
          "name": "stdout",
          "output_type": "stream",
          "text": [
            "[183/500] Train Acc: 0.93414 Loss: 0.10632 | Val Acc: 0.82368 loss: 0.48286\n"
          ]
        },
        {
          "name": "stderr",
          "output_type": "stream",
          "text": [
            "100%|██████████| 51/51 [00:34<00:00,  1.46it/s]\n",
            "100%|██████████| 3/3 [00:00<00:00,  4.18it/s]\n"
          ]
        },
        {
          "name": "stdout",
          "output_type": "stream",
          "text": [
            "[184/500] Train Acc: 0.93984 Loss: 0.09601 | Val Acc: 0.82588 loss: 0.48313\n"
          ]
        },
        {
          "name": "stderr",
          "output_type": "stream",
          "text": [
            "100%|██████████| 51/51 [00:34<00:00,  1.46it/s]\n",
            "100%|██████████| 3/3 [00:00<00:00,  4.22it/s]\n"
          ]
        },
        {
          "name": "stdout",
          "output_type": "stream",
          "text": [
            "[185/500] Train Acc: 0.94399 Loss: 0.08846 | Val Acc: 0.82981 loss: 0.47032\n"
          ]
        },
        {
          "name": "stderr",
          "output_type": "stream",
          "text": [
            "100%|██████████| 51/51 [00:34<00:00,  1.46it/s]\n",
            "100%|██████████| 3/3 [00:00<00:00,  4.35it/s]\n"
          ]
        },
        {
          "name": "stdout",
          "output_type": "stream",
          "text": [
            "[186/500] Train Acc: 0.94792 Loss: 0.08163 | Val Acc: 0.83106 loss: 0.46984\n"
          ]
        },
        {
          "name": "stderr",
          "output_type": "stream",
          "text": [
            "100%|██████████| 51/51 [00:34<00:00,  1.46it/s]\n",
            "100%|██████████| 3/3 [00:00<00:00,  4.49it/s]\n"
          ]
        },
        {
          "name": "stdout",
          "output_type": "stream",
          "text": [
            "[187/500] Train Acc: 0.95171 Loss: 0.07506 | Val Acc: 0.83232 loss: 0.47583\n"
          ]
        },
        {
          "name": "stderr",
          "output_type": "stream",
          "text": [
            "100%|██████████| 51/51 [00:34<00:00,  1.46it/s]\n",
            "100%|██████████| 3/3 [00:00<00:00,  4.18it/s]\n"
          ]
        },
        {
          "name": "stdout",
          "output_type": "stream",
          "text": [
            "[188/500] Train Acc: 0.95377 Loss: 0.07177 | Val Acc: 0.83378 loss: 0.47772\n"
          ]
        },
        {
          "name": "stderr",
          "output_type": "stream",
          "text": [
            "100%|██████████| 51/51 [00:34<00:00,  1.47it/s]\n",
            "100%|██████████| 3/3 [00:00<00:00,  4.27it/s]\n"
          ]
        },
        {
          "name": "stdout",
          "output_type": "stream",
          "text": [
            "[189/500] Train Acc: 0.95487 Loss: 0.06976 | Val Acc: 0.83393 loss: 0.47725\n"
          ]
        },
        {
          "name": "stderr",
          "output_type": "stream",
          "text": [
            "100%|██████████| 51/51 [00:34<00:00,  1.46it/s]\n",
            "100%|██████████| 3/3 [00:00<00:00,  4.43it/s]\n"
          ]
        },
        {
          "name": "stdout",
          "output_type": "stream",
          "text": [
            "[190/500] Train Acc: 0.95533 Loss: 0.06912 | Val Acc: 0.83442 loss: 0.47667\n",
            "saving model with acc 0.83442\n"
          ]
        },
        {
          "name": "stderr",
          "output_type": "stream",
          "text": [
            "100%|██████████| 51/51 [00:34<00:00,  1.47it/s]\n",
            "100%|██████████| 3/3 [00:00<00:00,  4.19it/s]\n"
          ]
        },
        {
          "name": "stdout",
          "output_type": "stream",
          "text": [
            "[191/500] Train Acc: 0.95571 Loss: 0.06837 | Val Acc: 0.83439 loss: 0.47644\n"
          ]
        },
        {
          "name": "stderr",
          "output_type": "stream",
          "text": [
            "100%|██████████| 51/51 [00:34<00:00,  1.46it/s]\n",
            "100%|██████████| 3/3 [00:00<00:00,  4.19it/s]\n"
          ]
        },
        {
          "name": "stdout",
          "output_type": "stream",
          "text": [
            "[192/500] Train Acc: 0.95580 Loss: 0.06833 | Val Acc: 0.83458 loss: 0.47603\n",
            "saving model with acc 0.83458\n"
          ]
        },
        {
          "name": "stderr",
          "output_type": "stream",
          "text": [
            "100%|██████████| 51/51 [00:35<00:00,  1.45it/s]\n",
            "100%|██████████| 3/3 [00:00<00:00,  4.39it/s]\n"
          ]
        },
        {
          "name": "stdout",
          "output_type": "stream",
          "text": [
            "[193/500] Train Acc: 0.95613 Loss: 0.06797 | Val Acc: 0.83446 loss: 0.47621\n"
          ]
        },
        {
          "name": "stderr",
          "output_type": "stream",
          "text": [
            "100%|██████████| 51/51 [00:35<00:00,  1.46it/s]\n",
            "100%|██████████| 3/3 [00:00<00:00,  4.13it/s]\n"
          ]
        },
        {
          "name": "stdout",
          "output_type": "stream",
          "text": [
            "[194/500] Train Acc: 0.95592 Loss: 0.06796 | Val Acc: 0.83452 loss: 0.48028\n"
          ]
        },
        {
          "name": "stderr",
          "output_type": "stream",
          "text": [
            "100%|██████████| 51/51 [00:34<00:00,  1.46it/s]\n",
            "100%|██████████| 3/3 [00:00<00:00,  3.99it/s]\n"
          ]
        },
        {
          "name": "stdout",
          "output_type": "stream",
          "text": [
            "[195/500] Train Acc: 0.95614 Loss: 0.06791 | Val Acc: 0.83403 loss: 0.48215\n"
          ]
        },
        {
          "name": "stderr",
          "output_type": "stream",
          "text": [
            "100%|██████████| 51/51 [00:34<00:00,  1.46it/s]\n",
            "100%|██████████| 3/3 [00:00<00:00,  4.20it/s]\n"
          ]
        },
        {
          "name": "stdout",
          "output_type": "stream",
          "text": [
            "[196/500] Train Acc: 0.95558 Loss: 0.06872 | Val Acc: 0.83361 loss: 0.48864\n"
          ]
        },
        {
          "name": "stderr",
          "output_type": "stream",
          "text": [
            "100%|██████████| 51/51 [00:34<00:00,  1.47it/s]\n",
            "100%|██████████| 3/3 [00:00<00:00,  4.13it/s]\n"
          ]
        },
        {
          "name": "stdout",
          "output_type": "stream",
          "text": [
            "[197/500] Train Acc: 0.95444 Loss: 0.07050 | Val Acc: 0.83203 loss: 0.50044\n"
          ]
        },
        {
          "name": "stderr",
          "output_type": "stream",
          "text": [
            "100%|██████████| 51/51 [00:34<00:00,  1.47it/s]\n",
            "100%|██████████| 3/3 [00:00<00:00,  4.32it/s]\n"
          ]
        },
        {
          "name": "stdout",
          "output_type": "stream",
          "text": [
            "[198/500] Train Acc: 0.95255 Loss: 0.07375 | Val Acc: 0.83128 loss: 0.50328\n"
          ]
        },
        {
          "name": "stderr",
          "output_type": "stream",
          "text": [
            "100%|██████████| 51/51 [00:34<00:00,  1.47it/s]\n",
            "100%|██████████| 3/3 [00:00<00:00,  4.38it/s]\n"
          ]
        },
        {
          "name": "stdout",
          "output_type": "stream",
          "text": [
            "[199/500] Train Acc: 0.94985 Loss: 0.07850 | Val Acc: 0.82807 loss: 0.49578\n"
          ]
        },
        {
          "name": "stderr",
          "output_type": "stream",
          "text": [
            "100%|██████████| 51/51 [00:34<00:00,  1.48it/s]\n",
            "100%|██████████| 3/3 [00:00<00:00,  4.37it/s]\n"
          ]
        },
        {
          "name": "stdout",
          "output_type": "stream",
          "text": [
            "[200/500] Train Acc: 0.94708 Loss: 0.08362 | Val Acc: 0.82595 loss: 0.50177\n"
          ]
        },
        {
          "name": "stderr",
          "output_type": "stream",
          "text": [
            "100%|██████████| 51/51 [00:34<00:00,  1.46it/s]\n",
            "100%|██████████| 3/3 [00:00<00:00,  4.24it/s]\n"
          ]
        },
        {
          "name": "stdout",
          "output_type": "stream",
          "text": [
            "[201/500] Train Acc: 0.93969 Loss: 0.09732 | Val Acc: 0.81558 loss: 0.52087\n"
          ]
        },
        {
          "name": "stderr",
          "output_type": "stream",
          "text": [
            "100%|██████████| 51/51 [00:34<00:00,  1.47it/s]\n",
            "100%|██████████| 3/3 [00:00<00:00,  4.21it/s]\n"
          ]
        },
        {
          "name": "stdout",
          "output_type": "stream",
          "text": [
            "[202/500] Train Acc: 0.93380 Loss: 0.10780 | Val Acc: 0.81659 loss: 0.51234\n"
          ]
        },
        {
          "name": "stderr",
          "output_type": "stream",
          "text": [
            "100%|██████████| 51/51 [00:34<00:00,  1.46it/s]\n",
            "100%|██████████| 3/3 [00:00<00:00,  4.24it/s]\n"
          ]
        },
        {
          "name": "stdout",
          "output_type": "stream",
          "text": [
            "[203/500] Train Acc: 0.93370 Loss: 0.10721 | Val Acc: 0.82073 loss: 0.50193\n"
          ]
        },
        {
          "name": "stderr",
          "output_type": "stream",
          "text": [
            "100%|██████████| 51/51 [00:34<00:00,  1.48it/s]\n",
            "100%|██████████| 3/3 [00:00<00:00,  4.25it/s]\n"
          ]
        },
        {
          "name": "stdout",
          "output_type": "stream",
          "text": [
            "[204/500] Train Acc: 0.93979 Loss: 0.09641 | Val Acc: 0.82472 loss: 0.49295\n"
          ]
        },
        {
          "name": "stderr",
          "output_type": "stream",
          "text": [
            "100%|██████████| 51/51 [00:34<00:00,  1.47it/s]\n",
            "100%|██████████| 3/3 [00:00<00:00,  4.04it/s]\n"
          ]
        },
        {
          "name": "stdout",
          "output_type": "stream",
          "text": [
            "[205/500] Train Acc: 0.94480 Loss: 0.08711 | Val Acc: 0.82596 loss: 0.48956\n"
          ]
        },
        {
          "name": "stderr",
          "output_type": "stream",
          "text": [
            "100%|██████████| 51/51 [00:34<00:00,  1.47it/s]\n",
            "100%|██████████| 3/3 [00:00<00:00,  4.16it/s]\n"
          ]
        },
        {
          "name": "stdout",
          "output_type": "stream",
          "text": [
            "[206/500] Train Acc: 0.94942 Loss: 0.07930 | Val Acc: 0.83143 loss: 0.48099\n"
          ]
        },
        {
          "name": "stderr",
          "output_type": "stream",
          "text": [
            "100%|██████████| 51/51 [00:34<00:00,  1.46it/s]\n",
            "100%|██████████| 3/3 [00:00<00:00,  4.23it/s]\n"
          ]
        },
        {
          "name": "stdout",
          "output_type": "stream",
          "text": [
            "[207/500] Train Acc: 0.95244 Loss: 0.07424 | Val Acc: 0.83263 loss: 0.48222\n"
          ]
        },
        {
          "name": "stderr",
          "output_type": "stream",
          "text": [
            "100%|██████████| 51/51 [00:34<00:00,  1.46it/s]\n",
            "100%|██████████| 3/3 [00:00<00:00,  4.33it/s]\n"
          ]
        },
        {
          "name": "stdout",
          "output_type": "stream",
          "text": [
            "[208/500] Train Acc: 0.95415 Loss: 0.07093 | Val Acc: 0.83338 loss: 0.48538\n"
          ]
        },
        {
          "name": "stderr",
          "output_type": "stream",
          "text": [
            "100%|██████████| 51/51 [00:34<00:00,  1.46it/s]\n",
            "100%|██████████| 3/3 [00:00<00:00,  4.15it/s]\n"
          ]
        },
        {
          "name": "stdout",
          "output_type": "stream",
          "text": [
            "[209/500] Train Acc: 0.95571 Loss: 0.06847 | Val Acc: 0.83298 loss: 0.48176\n"
          ]
        },
        {
          "name": "stderr",
          "output_type": "stream",
          "text": [
            "100%|██████████| 51/51 [00:35<00:00,  1.46it/s]\n",
            "100%|██████████| 3/3 [00:00<00:00,  4.25it/s]\n"
          ]
        },
        {
          "name": "stdout",
          "output_type": "stream",
          "text": [
            "[210/500] Train Acc: 0.95596 Loss: 0.06792 | Val Acc: 0.83365 loss: 0.48020\n"
          ]
        },
        {
          "name": "stderr",
          "output_type": "stream",
          "text": [
            "100%|██████████| 51/51 [00:34<00:00,  1.46it/s]\n",
            "100%|██████████| 3/3 [00:00<00:00,  4.02it/s]\n"
          ]
        },
        {
          "name": "stdout",
          "output_type": "stream",
          "text": [
            "[211/500] Train Acc: 0.95643 Loss: 0.06734 | Val Acc: 0.83389 loss: 0.48020\n"
          ]
        },
        {
          "name": "stderr",
          "output_type": "stream",
          "text": [
            "100%|██████████| 51/51 [00:34<00:00,  1.46it/s]\n",
            "100%|██████████| 3/3 [00:00<00:00,  4.53it/s]\n"
          ]
        },
        {
          "name": "stdout",
          "output_type": "stream",
          "text": [
            "[212/500] Train Acc: 0.95629 Loss: 0.06749 | Val Acc: 0.83360 loss: 0.48163\n"
          ]
        },
        {
          "name": "stderr",
          "output_type": "stream",
          "text": [
            "100%|██████████| 51/51 [00:34<00:00,  1.46it/s]\n",
            "100%|██████████| 3/3 [00:00<00:00,  4.10it/s]\n"
          ]
        },
        {
          "name": "stdout",
          "output_type": "stream",
          "text": [
            "[213/500] Train Acc: 0.95672 Loss: 0.06685 | Val Acc: 0.83333 loss: 0.48203\n"
          ]
        },
        {
          "name": "stderr",
          "output_type": "stream",
          "text": [
            "100%|██████████| 51/51 [00:37<00:00,  1.37it/s]\n",
            "100%|██████████| 3/3 [00:00<00:00,  3.91it/s]\n"
          ]
        },
        {
          "name": "stdout",
          "output_type": "stream",
          "text": [
            "[214/500] Train Acc: 0.95682 Loss: 0.06657 | Val Acc: 0.83294 loss: 0.48723\n"
          ]
        },
        {
          "name": "stderr",
          "output_type": "stream",
          "text": [
            " 86%|████████▋ | 44/51 [00:34<00:05,  1.28it/s]\n"
          ]
        },
        {
          "ename": "KeyboardInterrupt",
          "evalue": "",
          "output_type": "error",
          "traceback": [
            "\u001b[0;31m---------------------------------------------------------------------------\u001b[0m",
            "\u001b[0;31mKeyboardInterrupt\u001b[0m                         Traceback (most recent call last)",
            "Cell \u001b[0;32mIn[34], line 40\u001b[0m\n\u001b[1;32m     37\u001b[0m _, train_pred \u001b[39m=\u001b[39m torch\u001b[39m.\u001b[39mmax(outputs, \u001b[39m1\u001b[39m) \u001b[39m# get the index of the class with the highest probability\u001b[39;00m\n\u001b[1;32m     39\u001b[0m \u001b[39mfor\u001b[39;00m j \u001b[39min\u001b[39;00m \u001b[39mrange\u001b[39m(framelen\u001b[39m.\u001b[39mshape[\u001b[39m0\u001b[39m]):\n\u001b[0;32m---> 40\u001b[0m     train_acc \u001b[39m+\u001b[39m\u001b[39m=\u001b[39m (train_pred[j, :\u001b[39mint\u001b[39;49m(framelen[j])]\u001b[39m.\u001b[39;49mdetach() \u001b[39m==\u001b[39;49m labels[j, :\u001b[39mint\u001b[39;49m(framelen[j])]\u001b[39m.\u001b[39;49mdetach())\u001b[39m.\u001b[39;49msum()\u001b[39m.\u001b[39;49mitem()\n\u001b[1;32m     41\u001b[0m train_totalframelen \u001b[39m+\u001b[39m\u001b[39m=\u001b[39m framelen\u001b[39m.\u001b[39msum()\u001b[39m.\u001b[39mitem()\n\u001b[1;32m     42\u001b[0m \u001b[39m#train_acc += (train_pred.detach() == labels.detach()).sum().item()\u001b[39;00m\n",
            "\u001b[0;31mKeyboardInterrupt\u001b[0m: "
          ]
        }
      ],
      "source": [
        "# create model, define a loss function, and optimizer\n",
        "model = Classifier(input_dim=input_dim, hidden_layers=hidden_layers, hidden_dim=hidden_dim).to(device)\n",
        "criterion = nn.CrossEntropyLoss() \n",
        "optimizer = torch.optim.AdamW(model.parameters(), lr=learning_rate, weight_decay=0.001)\n",
        "\n",
        "scheduler = torch.optim.lr_scheduler.CosineAnnealingLR(optimizer, T_max=10, eta_min=1e-5)\n",
        "best_acc = 0.0\n",
        "for epoch in range(num_epoch):\n",
        "    train_acc = 0.0\n",
        "    train_loss = 0.0\n",
        "    val_acc = 0.0\n",
        "    val_loss = 0.0\n",
        "    train_totalframelen = 0\n",
        "    val_totalframelen = 0\n",
        "    \n",
        "    # training\n",
        "    model.train() # set the model to training mode\n",
        "    for i, batch in enumerate(tqdm(train_loader)):\n",
        "        features, labels, framelen = batch\n",
        "        features = features.to(device)\n",
        "        labels = labels.to(device)\n",
        "        \n",
        "        optimizer.zero_grad() \n",
        "        outputs = model(features)\n",
        "        outputs = torch.transpose(outputs, 1, 2)\n",
        "        # print(outputs.shape)\n",
        "        # print(labels.shape)\n",
        "\n",
        "        # for j in range(framelen.shape[0]):\n",
        "        #     loss = criterion(outputs[j, :int(framelen[j]), :], labels[j, :int(framelen[j])])\n",
        "        #     train_loss += loss.item()\n",
        "\n",
        "        loss = criterion(outputs, labels)\n",
        "        loss.backward() \n",
        "        optimizer.step() \n",
        "        \n",
        "        _, train_pred = torch.max(outputs, 1) # get the index of the class with the highest probability\n",
        "\n",
        "        for j in range(framelen.shape[0]):\n",
        "            train_acc += (train_pred[j, :int(framelen[j])].detach() == labels[j, :int(framelen[j])].detach()).sum().item()\n",
        "        train_totalframelen += framelen.sum().item()\n",
        "        #train_acc += (train_pred.detach() == labels.detach()).sum().item()\n",
        "        train_loss += loss.item()\n",
        "\n",
        "    #train_loss /= 64.0\n",
        "    train_acc /= (train_totalframelen / 3257)\n",
        "    \n",
        "    # validation\n",
        "    model.eval() # set the model to evaluation mode\n",
        "    with torch.no_grad():\n",
        "        for i, batch in enumerate(tqdm(val_loader)):\n",
        "            features, labels, framelen = batch\n",
        "            features = features.to(device)\n",
        "            labels = labels.to(device)\n",
        "            outputs = model(features)\n",
        "            outputs = torch.transpose(outputs, 1, 2)\n",
        "            \n",
        "            # for j in range(framelen.shape[0]):\n",
        "            #     loss = criterion(outputs[j, :int(framelen[j]), :], labels[j, :int(framelen[j])])\n",
        "            #     val_loss += loss.item()\n",
        "\n",
        "            loss = criterion(outputs, labels) \n",
        "            \n",
        "            _, val_pred = torch.max(outputs, 1) \n",
        "\n",
        "            for j in range(framelen.shape[0]):\n",
        "                val_acc += (val_pred[j, :int(framelen[j])].cpu() == labels[j, :int(framelen[j])].cpu()).sum().item()\n",
        "            val_totalframelen += framelen.sum().item()\n",
        "            #val_acc += (val_pred.cpu() == labels.cpu()).sum().item() # get the index of the class with the highest probability\n",
        "            val_loss += loss.item()\n",
        "    \n",
        "    #val_loss /= 64.0\n",
        "    val_acc /= (val_totalframelen / 172)\n",
        "\n",
        "    scheduler.step()\n",
        "    print(f'[{epoch+1:03d}/{num_epoch:03d}] Train Acc: {train_acc/len(train_set):3.5f} Loss: {train_loss/len(train_loader):3.5f} | Val Acc: {val_acc/len(val_set):3.5f} loss: {val_loss/len(val_loader):3.5f}')\n",
        "\n",
        "    # if the model improves, save a checkpoint at this epoch\n",
        "    if val_acc > best_acc:\n",
        "        best_acc = val_acc\n",
        "        torch.save(model.state_dict(), model_path)\n",
        "        print(f'saving model with acc {best_acc/len(val_set):.5f}')\n"
      ]
    },
    {
      "cell_type": "code",
      "execution_count": 35,
      "metadata": {
        "id": "ab33MxosWLmG"
      },
      "outputs": [
        {
          "data": {
            "text/plain": [
              "517"
            ]
          },
          "execution_count": 35,
          "metadata": {},
          "output_type": "execute_result"
        }
      ],
      "source": [
        "del train_set, val_set\n",
        "del train_loader, val_loader\n",
        "gc.collect()"
      ]
    },
    {
      "cell_type": "markdown",
      "metadata": {
        "id": "1Hi7jTn3PX-m"
      },
      "source": [
        "# Testing\n",
        "Create a testing dataset, and load model from the saved checkpoint."
      ]
    },
    {
      "cell_type": "code",
      "execution_count": 36,
      "metadata": {
        "id": "VOG1Ou0PGrhc"
      },
      "outputs": [
        {
          "name": "stdout",
          "output_type": "stream",
          "text": [
            "[Dataset] - # phone classes: 41, number of utterances for test: 857\n"
          ]
        },
        {
          "name": "stderr",
          "output_type": "stream",
          "text": [
            "857it [00:00, 1464.94it/s]"
          ]
        },
        {
          "name": "stdout",
          "output_type": "stream",
          "text": [
            "[INFO] test set\n",
            "torch.Size([857, 1024, 39])\n"
          ]
        },
        {
          "name": "stderr",
          "output_type": "stream",
          "text": [
            "\n"
          ]
        }
      ],
      "source": [
        "# load data\n",
        "test_X, test_len = preprocess_data(split='test', feat_dir='./libriphone/feat', phone_path='./libriphone', concat_nframes=concat_nframes)\n",
        "test_set = LibriDataset(test_X, None, test_len)\n",
        "test_loader = DataLoader(test_set, batch_size=batch_size, shuffle=False)"
      ]
    },
    {
      "cell_type": "code",
      "execution_count": 37,
      "metadata": {
        "id": "ay0Fu8Ovkdad"
      },
      "outputs": [
        {
          "data": {
            "text/plain": [
              "<All keys matched successfully>"
            ]
          },
          "execution_count": 37,
          "metadata": {},
          "output_type": "execute_result"
        }
      ],
      "source": [
        "# load model\n",
        "model = Classifier(input_dim=input_dim, hidden_layers=hidden_layers, hidden_dim=hidden_dim).to(device)\n",
        "model.load_state_dict(torch.load(model_path))"
      ]
    },
    {
      "cell_type": "markdown",
      "metadata": {
        "id": "zp-DV1p4r7Nz"
      },
      "source": [
        "Make prediction."
      ]
    },
    {
      "cell_type": "code",
      "execution_count": 38,
      "metadata": {
        "id": "84HU5GGjPqR0"
      },
      "outputs": [
        {
          "name": "stderr",
          "output_type": "stream",
          "text": [
            "100%|██████████| 14/14 [00:03<00:00,  3.73it/s]\n"
          ]
        }
      ],
      "source": [
        "pred = np.array([], dtype=np.int32)\n",
        "\n",
        "model.eval()\n",
        "with torch.no_grad():\n",
        "    for i, batch in enumerate(tqdm(test_loader)):\n",
        "        features, framelen = batch\n",
        "        features = features.to(device)\n",
        "\n",
        "        outputs = model(features)\n",
        "        outputs = torch.transpose(outputs, 1, 2)\n",
        "\n",
        "        _, test_pred = torch.max(outputs, 1) # get the index of the class with the highest probability\n",
        "        \n",
        "        for j in range(framelen.shape[0]):\n",
        "            pred = np.concatenate((pred, test_pred[j][:int(framelen[j])].cpu().numpy()), axis=0)\n",
        "\n",
        "        #pred = np.concatenate((pred, test_pred.cpu().numpy()), axis=0)\n"
      ]
    },
    {
      "cell_type": "markdown",
      "metadata": {
        "id": "wyZqy40Prz0v"
      },
      "source": [
        "Write prediction to a CSV file.\n",
        "\n",
        "After finish running this block, download the file `prediction.csv` from the files section on the left-hand side and submit it to Kaggle."
      ]
    },
    {
      "cell_type": "code",
      "execution_count": 39,
      "metadata": {
        "id": "GuljYSPHcZir"
      },
      "outputs": [],
      "source": [
        "with open('prediction.csv', 'w') as f:\n",
        "    f.write('Id,Class\\n')\n",
        "    for i, y in enumerate(pred):\n",
        "        f.write('{},{}\\n'.format(i, y))"
      ]
    }
  ],
  "metadata": {
    "accelerator": "GPU",
    "colab": {
      "provenance": []
    },
    "kernelspec": {
      "display_name": "ml-hw1",
      "language": "python",
      "name": "python3"
    },
    "language_info": {
      "codemirror_mode": {
        "name": "ipython",
        "version": 3
      },
      "file_extension": ".py",
      "mimetype": "text/x-python",
      "name": "python",
      "nbconvert_exporter": "python",
      "pygments_lexer": "ipython3",
      "version": "3.9.16"
    },
    "vscode": {
      "interpreter": {
        "hash": "a313415c2613cd3b56679a72c38aee833ae32b70bfcd57ef333e7c5a917f347f"
      }
    }
  },
  "nbformat": 4,
  "nbformat_minor": 0
}
